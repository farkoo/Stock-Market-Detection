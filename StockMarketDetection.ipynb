{
  "cells": [
    {
      "cell_type": "markdown",
      "source": [
        "# فرزانه کوهستانی\n",
        "# 40115824"
      ],
      "metadata": {
        "id": "0dZytU_idCWh"
      }
    },
    {
      "cell_type": "markdown",
      "metadata": {
        "id": "KKRCmGrTTWuf"
      },
      "source": [
        "# Stock Market Prediction"
      ]
    },
    {
      "cell_type": "markdown",
      "metadata": {
        "id": "eLFhNPNaUcqK"
      },
      "source": [
        "#### This notebook aims at showing a short script on how to predict stock prices using a LSTM model. "
      ]
    },
    {
      "cell_type": "markdown",
      "metadata": {
        "id": "xMWSOjeDY1Zo"
      },
      "source": [
        "**Reminder:**\n",
        "\n",
        "A Time Series is a time-indexed series of data. In Finance, a time series tracks the movement of the chosen data points, such as a security’s price, over a specified period of time with data points recorded at regular intervals.\n",
        "\n"
      ]
    },
    {
      "cell_type": "markdown",
      "metadata": {
        "id": "VGsN2QUoa9hz"
      },
      "source": [
        "## 1.Import libraries"
      ]
    },
    {
      "cell_type": "code",
      "source": [
        "!pip install yfinance"
      ],
      "metadata": {
        "colab": {
          "base_uri": "https://localhost:8080/"
        },
        "id": "M6XZqKPGAFQN",
        "outputId": "1b3489dc-37d4-4a7f-f636-43ef206562d7"
      },
      "execution_count": 9,
      "outputs": [
        {
          "output_type": "stream",
          "name": "stdout",
          "text": [
            "Looking in indexes: https://pypi.org/simple, https://us-python.pkg.dev/colab-wheels/public/simple/\n",
            "Requirement already satisfied: yfinance in /usr/local/lib/python3.8/dist-packages (0.2.3)\n",
            "Requirement already satisfied: appdirs>=1.4.4 in /usr/local/lib/python3.8/dist-packages (from yfinance) (1.4.4)\n",
            "Requirement already satisfied: lxml>=4.9.1 in /usr/local/lib/python3.8/dist-packages (from yfinance) (4.9.2)\n",
            "Requirement already satisfied: html5lib>=1.1 in /usr/local/lib/python3.8/dist-packages (from yfinance) (1.1)\n",
            "Requirement already satisfied: cryptography>=3.3.2 in /usr/local/lib/python3.8/dist-packages (from yfinance) (38.0.4)\n",
            "Requirement already satisfied: frozendict>=2.3.4 in /usr/local/lib/python3.8/dist-packages (from yfinance) (2.3.4)\n",
            "Requirement already satisfied: requests>=2.26 in /usr/local/lib/python3.8/dist-packages (from yfinance) (2.28.1)\n",
            "Requirement already satisfied: pandas>=1.3.0 in /usr/local/lib/python3.8/dist-packages (from yfinance) (1.3.5)\n",
            "Requirement already satisfied: multitasking>=0.0.7 in /usr/local/lib/python3.8/dist-packages (from yfinance) (0.0.11)\n",
            "Requirement already satisfied: numpy>=1.16.5 in /usr/local/lib/python3.8/dist-packages (from yfinance) (1.21.6)\n",
            "Requirement already satisfied: beautifulsoup4>=4.11.1 in /usr/local/lib/python3.8/dist-packages (from yfinance) (4.11.1)\n",
            "Requirement already satisfied: pytz>=2022.5 in /usr/local/lib/python3.8/dist-packages (from yfinance) (2022.6)\n",
            "Requirement already satisfied: soupsieve>1.2 in /usr/local/lib/python3.8/dist-packages (from beautifulsoup4>=4.11.1->yfinance) (2.3.2.post1)\n",
            "Requirement already satisfied: cffi>=1.12 in /usr/local/lib/python3.8/dist-packages (from cryptography>=3.3.2->yfinance) (1.15.1)\n",
            "Requirement already satisfied: pycparser in /usr/local/lib/python3.8/dist-packages (from cffi>=1.12->cryptography>=3.3.2->yfinance) (2.21)\n",
            "Requirement already satisfied: six>=1.9 in /usr/local/lib/python3.8/dist-packages (from html5lib>=1.1->yfinance) (1.15.0)\n",
            "Requirement already satisfied: webencodings in /usr/local/lib/python3.8/dist-packages (from html5lib>=1.1->yfinance) (0.5.1)\n",
            "Requirement already satisfied: python-dateutil>=2.7.3 in /usr/local/lib/python3.8/dist-packages (from pandas>=1.3.0->yfinance) (2.8.2)\n",
            "Requirement already satisfied: charset-normalizer<3,>=2 in /usr/local/lib/python3.8/dist-packages (from requests>=2.26->yfinance) (2.1.1)\n",
            "Requirement already satisfied: urllib3<1.27,>=1.21.1 in /usr/local/lib/python3.8/dist-packages (from requests>=2.26->yfinance) (1.24.3)\n",
            "Requirement already satisfied: idna<4,>=2.5 in /usr/local/lib/python3.8/dist-packages (from requests>=2.26->yfinance) (2.10)\n",
            "Requirement already satisfied: certifi>=2017.4.17 in /usr/local/lib/python3.8/dist-packages (from requests>=2.26->yfinance) (2022.12.7)\n"
          ]
        }
      ]
    },
    {
      "cell_type": "code",
      "execution_count": 10,
      "metadata": {
        "id": "tvv6QwS2a8om"
      },
      "outputs": [],
      "source": [
        "import pandas as pd\n",
        "import numpy as np\n",
        "import tensorflow as tf\n",
        "import yfinance as yf\n",
        "import matplotlib.pyplot as plt"
      ]
    },
    {
      "cell_type": "markdown",
      "source": [
        "<div dir=rtl>\n",
        "\n",
        "در سلول بالا کتابخانه ها و ماژولهای موردنیاز اضافه شده اند.\n",
        "\n",
        "</div>"
      ],
      "metadata": {
        "id": "S8aWSHny-hSI"
      }
    },
    {
      "cell_type": "markdown",
      "metadata": {
        "id": "KgIEIZjcbRnP"
      },
      "source": [
        "## 2.Load data"
      ]
    },
    {
      "cell_type": "code",
      "execution_count": 11,
      "metadata": {
        "id": "AgqLF_MmI5TW"
      },
      "outputs": [],
      "source": [
        "def get_stock_data(company, start_date, end_date):\n",
        "\n",
        "    df = yf.download(company, start_date, end_date)\n",
        "    stock_data = df['Adj Close']\n",
        "    return stock_data, df"
      ]
    },
    {
      "cell_type": "markdown",
      "source": [
        "<div dir=rtl>\n",
        "\n",
        "با استفاده از تابع بالا به کمک کتابخانه yfinance با دریافت اسم کمپانی و تاریخ شروع و پایان سری زمانی، دیتاست مربوطه دانلود میشود.\n",
        "\n",
        "سپس مقادیر هدف از دیتاست انتخاب شده و به همراه کل دیتاست بازگرندانده میشود.\n",
        "\n",
        "</div>"
      ],
      "metadata": {
        "id": "aw8kvhEo_KRL"
      }
    },
    {
      "cell_type": "code",
      "execution_count": 12,
      "metadata": {
        "colab": {
          "base_uri": "https://localhost:8080/"
        },
        "id": "Y35qKTpbbpmY",
        "outputId": "4a368e52-888f-4a34-a268-cdcac23d8280"
      },
      "outputs": [
        {
          "output_type": "stream",
          "name": "stdout",
          "text": [
            "\r[*********************100%***********************]  1 of 1 completed\n"
          ]
        }
      ],
      "source": [
        "start_date = \"2010-01-01\"\n",
        "end_date = \"2020-01-01\"\n",
        "# company = 'AAPl'\n",
        "company = \"GOOG\"\n",
        "stock_data, df = get_stock_data(company, start_date, end_date)"
      ]
    },
    {
      "cell_type": "markdown",
      "source": [
        "<div dir=rtl>\n",
        "\n",
        "از تابعی که در سلول قبلی شرح دادیم استفاده شده است و داده های سری زمانی کمپانی GOOG را بین دو تاریخ گفته شده دریافت کرده است.\n",
        "\n",
        "</div>"
      ],
      "metadata": {
        "id": "AUnc01x1_rz0"
      }
    },
    {
      "cell_type": "code",
      "execution_count": 13,
      "metadata": {
        "colab": {
          "base_uri": "https://localhost:8080/",
          "height": 455
        },
        "id": "mgUnEQC-mAp1",
        "outputId": "de3b6a6e-880a-447d-ae79-a7d2ac8febea"
      },
      "outputs": [
        {
          "output_type": "execute_result",
          "data": {
            "text/plain": [
              "                 Open       High        Low      Close  Adj Close     Volume\n",
              "Date                                                                        \n",
              "2010-01-04  15.615220  15.678981  15.547723  15.610239  15.610239   78541293\n",
              "2010-01-05  15.620949  15.637387  15.480475  15.541497  15.541497  120638494\n",
              "2010-01-06  15.588072  15.588072  15.102393  15.149715  15.149715  159744526\n",
              "2010-01-07  15.178109  15.193053  14.760922  14.797037  14.797037  257533695\n",
              "2010-01-08  14.744733  15.024933  14.672753  14.994298  14.994298  189680313\n",
              "...               ...        ...        ...        ...        ...        ...\n",
              "2019-12-24  67.425003  67.513000  67.139000  67.178001  67.178001    6950000\n",
              "2019-12-26  67.308502  68.066353  67.223503  68.019997  68.019997   13350000\n",
              "2019-12-27  68.149498  68.226501  67.465500  67.594498  67.594498   20768000\n",
              "2019-12-30  67.500000  67.650002  66.700996  66.806999  66.806999   21018000\n",
              "2019-12-31  66.505501  66.900002  66.454247  66.850998  66.850998   19236000\n",
              "\n",
              "[2516 rows x 6 columns]"
            ],
            "text/html": [
              "\n",
              "  <div id=\"df-5c21b6b7-5fb9-41e4-808b-adb77445aa10\">\n",
              "    <div class=\"colab-df-container\">\n",
              "      <div>\n",
              "<style scoped>\n",
              "    .dataframe tbody tr th:only-of-type {\n",
              "        vertical-align: middle;\n",
              "    }\n",
              "\n",
              "    .dataframe tbody tr th {\n",
              "        vertical-align: top;\n",
              "    }\n",
              "\n",
              "    .dataframe thead th {\n",
              "        text-align: right;\n",
              "    }\n",
              "</style>\n",
              "<table border=\"1\" class=\"dataframe\">\n",
              "  <thead>\n",
              "    <tr style=\"text-align: right;\">\n",
              "      <th></th>\n",
              "      <th>Open</th>\n",
              "      <th>High</th>\n",
              "      <th>Low</th>\n",
              "      <th>Close</th>\n",
              "      <th>Adj Close</th>\n",
              "      <th>Volume</th>\n",
              "    </tr>\n",
              "    <tr>\n",
              "      <th>Date</th>\n",
              "      <th></th>\n",
              "      <th></th>\n",
              "      <th></th>\n",
              "      <th></th>\n",
              "      <th></th>\n",
              "      <th></th>\n",
              "    </tr>\n",
              "  </thead>\n",
              "  <tbody>\n",
              "    <tr>\n",
              "      <th>2010-01-04</th>\n",
              "      <td>15.615220</td>\n",
              "      <td>15.678981</td>\n",
              "      <td>15.547723</td>\n",
              "      <td>15.610239</td>\n",
              "      <td>15.610239</td>\n",
              "      <td>78541293</td>\n",
              "    </tr>\n",
              "    <tr>\n",
              "      <th>2010-01-05</th>\n",
              "      <td>15.620949</td>\n",
              "      <td>15.637387</td>\n",
              "      <td>15.480475</td>\n",
              "      <td>15.541497</td>\n",
              "      <td>15.541497</td>\n",
              "      <td>120638494</td>\n",
              "    </tr>\n",
              "    <tr>\n",
              "      <th>2010-01-06</th>\n",
              "      <td>15.588072</td>\n",
              "      <td>15.588072</td>\n",
              "      <td>15.102393</td>\n",
              "      <td>15.149715</td>\n",
              "      <td>15.149715</td>\n",
              "      <td>159744526</td>\n",
              "    </tr>\n",
              "    <tr>\n",
              "      <th>2010-01-07</th>\n",
              "      <td>15.178109</td>\n",
              "      <td>15.193053</td>\n",
              "      <td>14.760922</td>\n",
              "      <td>14.797037</td>\n",
              "      <td>14.797037</td>\n",
              "      <td>257533695</td>\n",
              "    </tr>\n",
              "    <tr>\n",
              "      <th>2010-01-08</th>\n",
              "      <td>14.744733</td>\n",
              "      <td>15.024933</td>\n",
              "      <td>14.672753</td>\n",
              "      <td>14.994298</td>\n",
              "      <td>14.994298</td>\n",
              "      <td>189680313</td>\n",
              "    </tr>\n",
              "    <tr>\n",
              "      <th>...</th>\n",
              "      <td>...</td>\n",
              "      <td>...</td>\n",
              "      <td>...</td>\n",
              "      <td>...</td>\n",
              "      <td>...</td>\n",
              "      <td>...</td>\n",
              "    </tr>\n",
              "    <tr>\n",
              "      <th>2019-12-24</th>\n",
              "      <td>67.425003</td>\n",
              "      <td>67.513000</td>\n",
              "      <td>67.139000</td>\n",
              "      <td>67.178001</td>\n",
              "      <td>67.178001</td>\n",
              "      <td>6950000</td>\n",
              "    </tr>\n",
              "    <tr>\n",
              "      <th>2019-12-26</th>\n",
              "      <td>67.308502</td>\n",
              "      <td>68.066353</td>\n",
              "      <td>67.223503</td>\n",
              "      <td>68.019997</td>\n",
              "      <td>68.019997</td>\n",
              "      <td>13350000</td>\n",
              "    </tr>\n",
              "    <tr>\n",
              "      <th>2019-12-27</th>\n",
              "      <td>68.149498</td>\n",
              "      <td>68.226501</td>\n",
              "      <td>67.465500</td>\n",
              "      <td>67.594498</td>\n",
              "      <td>67.594498</td>\n",
              "      <td>20768000</td>\n",
              "    </tr>\n",
              "    <tr>\n",
              "      <th>2019-12-30</th>\n",
              "      <td>67.500000</td>\n",
              "      <td>67.650002</td>\n",
              "      <td>66.700996</td>\n",
              "      <td>66.806999</td>\n",
              "      <td>66.806999</td>\n",
              "      <td>21018000</td>\n",
              "    </tr>\n",
              "    <tr>\n",
              "      <th>2019-12-31</th>\n",
              "      <td>66.505501</td>\n",
              "      <td>66.900002</td>\n",
              "      <td>66.454247</td>\n",
              "      <td>66.850998</td>\n",
              "      <td>66.850998</td>\n",
              "      <td>19236000</td>\n",
              "    </tr>\n",
              "  </tbody>\n",
              "</table>\n",
              "<p>2516 rows × 6 columns</p>\n",
              "</div>\n",
              "      <button class=\"colab-df-convert\" onclick=\"convertToInteractive('df-5c21b6b7-5fb9-41e4-808b-adb77445aa10')\"\n",
              "              title=\"Convert this dataframe to an interactive table.\"\n",
              "              style=\"display:none;\">\n",
              "        \n",
              "  <svg xmlns=\"http://www.w3.org/2000/svg\" height=\"24px\"viewBox=\"0 0 24 24\"\n",
              "       width=\"24px\">\n",
              "    <path d=\"M0 0h24v24H0V0z\" fill=\"none\"/>\n",
              "    <path d=\"M18.56 5.44l.94 2.06.94-2.06 2.06-.94-2.06-.94-.94-2.06-.94 2.06-2.06.94zm-11 1L8.5 8.5l.94-2.06 2.06-.94-2.06-.94L8.5 2.5l-.94 2.06-2.06.94zm10 10l.94 2.06.94-2.06 2.06-.94-2.06-.94-.94-2.06-.94 2.06-2.06.94z\"/><path d=\"M17.41 7.96l-1.37-1.37c-.4-.4-.92-.59-1.43-.59-.52 0-1.04.2-1.43.59L10.3 9.45l-7.72 7.72c-.78.78-.78 2.05 0 2.83L4 21.41c.39.39.9.59 1.41.59.51 0 1.02-.2 1.41-.59l7.78-7.78 2.81-2.81c.8-.78.8-2.07 0-2.86zM5.41 20L4 18.59l7.72-7.72 1.47 1.35L5.41 20z\"/>\n",
              "  </svg>\n",
              "      </button>\n",
              "      \n",
              "  <style>\n",
              "    .colab-df-container {\n",
              "      display:flex;\n",
              "      flex-wrap:wrap;\n",
              "      gap: 12px;\n",
              "    }\n",
              "\n",
              "    .colab-df-convert {\n",
              "      background-color: #E8F0FE;\n",
              "      border: none;\n",
              "      border-radius: 50%;\n",
              "      cursor: pointer;\n",
              "      display: none;\n",
              "      fill: #1967D2;\n",
              "      height: 32px;\n",
              "      padding: 0 0 0 0;\n",
              "      width: 32px;\n",
              "    }\n",
              "\n",
              "    .colab-df-convert:hover {\n",
              "      background-color: #E2EBFA;\n",
              "      box-shadow: 0px 1px 2px rgba(60, 64, 67, 0.3), 0px 1px 3px 1px rgba(60, 64, 67, 0.15);\n",
              "      fill: #174EA6;\n",
              "    }\n",
              "\n",
              "    [theme=dark] .colab-df-convert {\n",
              "      background-color: #3B4455;\n",
              "      fill: #D2E3FC;\n",
              "    }\n",
              "\n",
              "    [theme=dark] .colab-df-convert:hover {\n",
              "      background-color: #434B5C;\n",
              "      box-shadow: 0px 1px 3px 1px rgba(0, 0, 0, 0.15);\n",
              "      filter: drop-shadow(0px 1px 2px rgba(0, 0, 0, 0.3));\n",
              "      fill: #FFFFFF;\n",
              "    }\n",
              "  </style>\n",
              "\n",
              "      <script>\n",
              "        const buttonEl =\n",
              "          document.querySelector('#df-5c21b6b7-5fb9-41e4-808b-adb77445aa10 button.colab-df-convert');\n",
              "        buttonEl.style.display =\n",
              "          google.colab.kernel.accessAllowed ? 'block' : 'none';\n",
              "\n",
              "        async function convertToInteractive(key) {\n",
              "          const element = document.querySelector('#df-5c21b6b7-5fb9-41e4-808b-adb77445aa10');\n",
              "          const dataTable =\n",
              "            await google.colab.kernel.invokeFunction('convertToInteractive',\n",
              "                                                     [key], {});\n",
              "          if (!dataTable) return;\n",
              "\n",
              "          const docLinkHtml = 'Like what you see? Visit the ' +\n",
              "            '<a target=\"_blank\" href=https://colab.research.google.com/notebooks/data_table.ipynb>data table notebook</a>'\n",
              "            + ' to learn more about interactive tables.';\n",
              "          element.innerHTML = '';\n",
              "          dataTable['output_type'] = 'display_data';\n",
              "          await google.colab.output.renderOutput(dataTable, element);\n",
              "          const docLink = document.createElement('div');\n",
              "          docLink.innerHTML = docLinkHtml;\n",
              "          element.appendChild(docLink);\n",
              "        }\n",
              "      </script>\n",
              "    </div>\n",
              "  </div>\n",
              "  "
            ]
          },
          "metadata": {},
          "execution_count": 13
        }
      ],
      "source": [
        "df"
      ]
    },
    {
      "cell_type": "code",
      "execution_count": 14,
      "metadata": {
        "colab": {
          "base_uri": "https://localhost:8080/"
        },
        "id": "YpntcsYtpXBT",
        "outputId": "b26c1638-1939-43bd-a040-f04a2754845c"
      },
      "outputs": [
        {
          "output_type": "execute_result",
          "data": {
            "text/plain": [
              "Date\n",
              "2010-01-04    15.610239\n",
              "2010-01-05    15.541497\n",
              "2010-01-06    15.149715\n",
              "2010-01-07    14.797037\n",
              "2010-01-08    14.994298\n",
              "                ...    \n",
              "2019-12-24    67.178001\n",
              "2019-12-26    68.019997\n",
              "2019-12-27    67.594498\n",
              "2019-12-30    66.806999\n",
              "2019-12-31    66.850998\n",
              "Name: Adj Close, Length: 2516, dtype: float64"
            ]
          },
          "metadata": {},
          "execution_count": 14
        }
      ],
      "source": [
        "stock_data"
      ]
    },
    {
      "cell_type": "code",
      "execution_count": 15,
      "metadata": {
        "colab": {
          "base_uri": "https://localhost:8080/",
          "height": 313
        },
        "id": "taX2FQ5j-RC-",
        "outputId": "94973a83-b328-4a34-b5f1-ce82c9b45d35"
      },
      "outputs": [
        {
          "output_type": "execute_result",
          "data": {
            "text/plain": [
              "Text(0, 0.5, 'Prices ($)')"
            ]
          },
          "metadata": {},
          "execution_count": 15
        },
        {
          "output_type": "display_data",
          "data": {
            "text/plain": [
              "<Figure size 432x288 with 1 Axes>"
            ],
            "image/png": "[encoded data removed]"
          },
          "metadata": {
            "needs_background": "light"
          }
        }
      ],
      "source": [
        "plt.title('Stock Prices History')\n",
        "plt.plot(stock_data)\n",
        "plt.xlabel('Date')\n",
        "plt.ylabel('Prices ($)')"
      ]
    },
    {
      "cell_type": "markdown",
      "source": [
        "<div dir=rtl>\n",
        "\n",
        "در نمودار بالا ارزش سهام این شرکت در طول زمان مشخص شده است.\n",
        "\n",
        "</div>"
      ],
      "metadata": {
        "id": "bPWg63tgAjUo"
      }
    },
    {
      "cell_type": "markdown",
      "metadata": {
        "id": "a01o1EWpbsQ9"
      },
      "source": [
        "## 3.Preprocessing"
      ]
    },
    {
      "cell_type": "code",
      "execution_count": 16,
      "metadata": {
        "id": "rw87s03LbsiQ"
      },
      "outputs": [],
      "source": [
        "class DataProcessing:\n",
        "    def __init__(self, data, percentage_of_training_data):\n",
        "        self.stock_train = data[0: int(len(data) * percentage_of_training_data)]\n",
        "        self.stock_test = data[int(len(data) * percentage_of_training_data): ]\n",
        "\n",
        "    def gen_train(self, seq_len):\n",
        "        \"\"\"\n",
        "        Generates training data\n",
        "        :param seq_len: length of the days used for prediction\n",
        "        :return: X_train and Y_train\n",
        "        \"\"\"\n",
        "        input_train = []\n",
        "        output_train = []\n",
        "\n",
        "        for i in range(seq_len, len(self.stock_train)): \n",
        "            x = np.array(self.stock_train[i - seq_len: i])\n",
        "            y = np.array([self.stock_train[i]], np.float64)\n",
        "            input_train.append(x)\n",
        "            output_train.append(y)\n",
        "\n",
        "        input_train = np.array(input_train) / 200\n",
        "        self.X_train = input_train.reshape((input_train.shape[0], input_train.shape[1], 1))\n",
        "        self.Y_train = np.array(output_train) / 200\n",
        "        \n",
        "    def gen_test(self, seq_len):\n",
        "        \"\"\"\n",
        "        Generates test data\n",
        "        :param seq_len: Length of window\n",
        "        :return: X_test and Y_test\n",
        "        \"\"\"\n",
        "        input_test = []\n",
        "        output_test = []\n",
        "\n",
        "        for i in range(seq_len, len(self.stock_test)):  \n",
        "            x = np.array(self.stock_test[i - seq_len: i])\n",
        "            y = np.array([self.stock_test[i]], np.float64)\n",
        "            input_test.append(x)\n",
        "            output_test.append(y)\n",
        "            \n",
        "        input_test = np.array(input_test) / 200\n",
        "        self.X_test = input_test.reshape((input_test.shape[0], input_test.shape[1], 1))\n",
        "        self.Y_test = np.array(output_test) / 200\n"
      ]
    },
    {
      "cell_type": "markdown",
      "source": [
        "<div dir=rtl>\n",
        "\n",
        "کلاس بالا از سه تابع تشکیل شده است،\n",
        "\n",
        "در تابع __init__ با دریافت درصد جداسازی دادگان آموزش از تست، مجموعه داده ی دریافتی در آرگومان اول را به دو بخش متناسب با درصد دریافتی تقسیم بندی میکند.\n",
        "\n",
        "سپس در تابع gen_test و gen_train با دریافت طول بازه سری زمانی مورد نیاز از مجموعه آموزش و تستی که در مرحله قبلی ساخته شده بود بازه هایی با همان طول میسازد و مجموعه های آموزش و تست را به بازه هایی با طول مشخص شده افراز میکند.\n",
        "\n",
        "\n",
        "\n",
        "\n",
        "</div>"
      ],
      "metadata": {
        "id": "lfIqDmO-A0Z7"
      }
    },
    {
      "cell_type": "code",
      "execution_count": 17,
      "metadata": {
        "id": "cXraQQAGcIA9"
      },
      "outputs": [],
      "source": [
        "process = DataProcessing(stock_data, 0.8)\n",
        "process.gen_test(30)\n",
        "process.gen_train(30)"
      ]
    },
    {
      "cell_type": "code",
      "execution_count": 18,
      "metadata": {
        "id": "a3t_o2WjcORR"
      },
      "outputs": [],
      "source": [
        "X_train = process.X_train\n",
        "Y_train = process.Y_train \n",
        "\n",
        "X_test = process.X_test\n",
        "Y_test = process.Y_test "
      ]
    },
    {
      "cell_type": "markdown",
      "source": [
        "<div dir=rtl>\n",
        "\n",
        "در دو سلول بالا، ابتدا مجموعه داده به نسبت 4 به 1 به دو بخش آموزش و تست تقسیم شده است و سپس سری زمانی هایی به طول سی روز از این دو مجموعه ساخته شده است.\n",
        "\n",
        "</div>"
      ],
      "metadata": {
        "id": "8W7wzK23CZ8g"
      }
    },
    {
      "cell_type": "markdown",
      "metadata": {
        "id": "e83-lZ8s-RDA"
      },
      "source": [
        "# Super-Class"
      ]
    },
    {
      "cell_type": "code",
      "execution_count": 19,
      "metadata": {
        "id": "yvFe0nMO-RDB"
      },
      "outputs": [],
      "source": [
        "class RNN:\n",
        "    def __init__(self, network_type, _input_shape, _dropout, _optimizer, _loss):\n",
        "        if network_type == 'LSTM':\n",
        "            model = tf.keras.Sequential()\n",
        "            model.add(tf.keras.layers.LSTM(units=50, return_sequences=True, input_shape=(_input_shape, 1)))\n",
        "            model.add(tf.keras.layers.Dropout(_dropout))\n",
        "            model.add(tf.keras.layers.LSTM(units=50, return_sequences=True))\n",
        "            model.add(tf.keras.layers.Dropout(_dropout))\n",
        "            model.add(tf.keras.layers.LSTM(units=50, return_sequences=True))\n",
        "            model.add(tf.keras.layers.Dropout(_dropout))\n",
        "            model.add(tf.keras.layers.LSTM(units=50))\n",
        "            model.add(tf.keras.layers.Dropout(_dropout))\n",
        "            model.add(tf.keras.layers.Dense(units=1))\n",
        "            model.add(tf.keras.layers.Dropout(_dropout))\n",
        "        elif network_type == 'GRU':\n",
        "            model = tf.keras.Sequential()\n",
        "            model.add(tf.keras.layers.GRU(units=50, return_sequences=True, input_shape=(_input_shape, 1), activation='tanh'))\n",
        "            model.add(tf.keras.layers.Dropout(_dropout))\n",
        "            model.add(tf.keras.layers.GRU(units=50, return_sequences=True, input_shape=(_input_shape, 1), activation='tanh'))\n",
        "            model.add(tf.keras.layers.Dropout(_dropout))\n",
        "            model.add(tf.keras.layers.GRU(units=50, return_sequences=True, input_shape=(_input_shape, 1), activation='tanh'))\n",
        "            model.add(tf.keras.layers.Dropout(_dropout))\n",
        "            model.add(tf.keras.layers.GRU(units=50, activation='tanh'))\n",
        "            model.add(tf.keras.layers.Dropout(_dropout))\n",
        "            model.add(tf.keras.layers.Dense(units=1))\n",
        "        \n",
        "        model.summary()\n",
        "        model.compile(optimizer=_optimizer, loss=_loss)\n",
        "        self.model = model\n",
        "    \n",
        "    def train(self, X_train, Y_train, EPOCHS):\n",
        "        self.history = self.model.fit(X_train, Y_train, epochs=EPOCHS)\n",
        "        plt.plot(self.history.history['loss'])\n",
        "        plt.title('model loss')\n",
        "        plt.ylabel('loss')\n",
        "        plt.xlabel('epoch')\n",
        "        plt.show()\n",
        "    \n",
        "    def evaluate(self, X_test, Y_test):\n",
        "        print('\\nEvaluate result:')\n",
        "        self.model.evaluate(X_test, Y_test)\n",
        "        \n",
        "    def predict(self, X_test, Y_test):\n",
        "        predicttion = self.model.predict(X_test)\n",
        "        plt.plot(Y_test * 200, color='g', label=f'Actual {company} price')\n",
        "        plt.plot(predicttion * 200, color='r', label=f'predicted {company} price')\n",
        "        plt.title(f'{company} share price')\n",
        "        plt.xlabel('time')\n",
        "        plt.ylabel(f'{company} share price')\n",
        "        plt.legend()"
      ]
    },
    {
      "cell_type": "markdown",
      "source": [
        "<div dir=rtl>\n",
        "\n",
        "این کلاس به گونه ای طراحی شده است که بتوان در آن،\n",
        "\n",
        "* نوع شبکه یعنی LSTM یا GRU\n",
        "* ابعاد ورودی\n",
        "* میزان dropout\n",
        "* تابع فعالسازی\n",
        "* تابع loss\n",
        "\n",
        "را مشخص کرد.\n",
        "\n",
        "این موارد در تابع __init__ کلاس مشخص میشوند و مدل ساخته میشود.\n",
        "\n",
        "در تابع train داده ی آموزشی و تعدا ایپاک آموزش دریافت میشود و مدل آموزش میبیند.\n",
        "\n",
        "در تابع test داده ی زمان تست دریافت شده و عملکرد مدل روی داده ی مشاهده نشده بررسی میشود.\n",
        "\n",
        "و نهایتا در تابع predict نمودار مقدار حقیقی و پیشبینی شده برای داده های تست رسم میشود.\n",
        "</div>"
      ],
      "metadata": {
        "id": "jLe7qqD2Kffv"
      }
    },
    {
      "cell_type": "markdown",
      "metadata": {
        "id": "zMRgwGUfcSqH"
      },
      "source": [
        "## Build LSTM model"
      ]
    },
    {
      "cell_type": "markdown",
      "source": [
        "<div dir=rtl>\n",
        "\n",
        "در این قسمت شبکه ی LSTM با مقدار dropout ،برابر با صفر\n",
        "با تابع بهینه ساز adam و تابع MSE loss ساخته شده است.\n",
        "\n",
        "</div>"
      ],
      "metadata": {
        "id": "Ti_hqR5ZQmDk"
      }
    },
    {
      "cell_type": "code",
      "execution_count": 20,
      "metadata": {
        "colab": {
          "base_uri": "https://localhost:8080/"
        },
        "id": "v-x6b6wU-RDD",
        "outputId": "a09c1a49-aef4-45d8-fe8f-e94b11d4c935"
      },
      "outputs": [
        {
          "output_type": "stream",
          "name": "stdout",
          "text": [
            "Model: \"sequential\"\n",
            "_________________________________________________________________\n",
            " Layer (type)                Output Shape              Param #   \n",
            "=================================================================\n",
            " lstm (LSTM)                 (None, 30, 50)            10400     \n",
            "                                                                 \n",
            " dropout (Dropout)           (None, 30, 50)            0         \n",
            "                                                                 \n",
            " lstm_1 (LSTM)               (None, 30, 50)            20200     \n",
            "                                                                 \n",
            " dropout_1 (Dropout)         (None, 30, 50)            0         \n",
            "                                                                 \n",
            " lstm_2 (LSTM)               (None, 30, 50)            20200     \n",
            "                                                                 \n",
            " dropout_2 (Dropout)         (None, 30, 50)            0         \n",
            "                                                                 \n",
            " lstm_3 (LSTM)               (None, 50)                20200     \n",
            "                                                                 \n",
            " dropout_3 (Dropout)         (None, 50)                0         \n",
            "                                                                 \n",
            " dense (Dense)               (None, 1)                 51        \n",
            "                                                                 \n",
            " dropout_4 (Dropout)         (None, 1)                 0         \n",
            "                                                                 \n",
            "=================================================================\n",
            "Total params: 71,051\n",
            "Trainable params: 71,051\n",
            "Non-trainable params: 0\n",
            "_________________________________________________________________\n"
          ]
        }
      ],
      "source": [
        "model_LSTM = RNN('LSTM', X_train.shape[1], 0, 'adam', 'mean_squared_error')"
      ]
    },
    {
      "cell_type": "markdown",
      "source": [
        "<div dir=rtl>\n",
        "\n",
        "این شبکه با استفاده از داده های آموزش به اندازه ی 50 ایپاک آموزش دیده است.\n",
        "\n",
        "</div>"
      ],
      "metadata": {
        "id": "BpWr4b5PQ8Wt"
      }
    },
    {
      "cell_type": "code",
      "execution_count": 21,
      "metadata": {
        "colab": {
          "base_uri": "https://localhost:8080/",
          "height": 1000
        },
        "id": "oh7ibh20-RDD",
        "outputId": "81d6bad0-952f-4c65-c553-03d64e1fdbd3"
      },
      "outputs": [
        {
          "output_type": "stream",
          "name": "stdout",
          "text": [
            "Epoch 1/50\n",
            "62/62 [==============================] - 16s 109ms/step - loss: 9.7444e-04\n",
            "Epoch 2/50\n",
            "62/62 [==============================] - 6s 100ms/step - loss: 3.8540e-05\n",
            "Epoch 3/50\n",
            "62/62 [==============================] - 4s 60ms/step - loss: 3.8501e-05\n",
            "Epoch 4/50\n",
            "62/62 [==============================] - 4s 59ms/step - loss: 3.9370e-05\n",
            "Epoch 5/50\n",
            "62/62 [==============================] - 4s 59ms/step - loss: 3.7045e-05\n",
            "Epoch 6/50\n",
            "62/62 [==============================] - 4s 59ms/step - loss: 3.8422e-05\n",
            "Epoch 7/50\n",
            "62/62 [==============================] - 4s 58ms/step - loss: 3.7669e-05\n",
            "Epoch 8/50\n",
            "62/62 [==============================] - 4s 59ms/step - loss: 3.6553e-05\n",
            "Epoch 9/50\n",
            "62/62 [==============================] - 4s 57ms/step - loss: 3.7460e-05\n",
            "Epoch 10/50\n",
            "62/62 [==============================] - 4s 65ms/step - loss: 3.7144e-05\n",
            "Epoch 11/50\n",
            "62/62 [==============================] - 6s 96ms/step - loss: 3.7226e-05\n",
            "Epoch 12/50\n",
            "62/62 [==============================] - 5s 84ms/step - loss: 4.5628e-05\n",
            "Epoch 13/50\n",
            "62/62 [==============================] - 4s 58ms/step - loss: 3.5226e-05\n",
            "Epoch 14/50\n",
            "62/62 [==============================] - 5s 78ms/step - loss: 3.3489e-05\n",
            "Epoch 15/50\n",
            "62/62 [==============================] - 4s 58ms/step - loss: 3.2385e-05\n",
            "Epoch 16/50\n",
            "62/62 [==============================] - 4s 69ms/step - loss: 3.3934e-05\n",
            "Epoch 17/50\n",
            "62/62 [==============================] - 4s 58ms/step - loss: 3.7195e-05\n",
            "Epoch 18/50\n",
            "62/62 [==============================] - 4s 59ms/step - loss: 3.0569e-05\n",
            "Epoch 19/50\n",
            "62/62 [==============================] - 4s 69ms/step - loss: 4.0543e-05\n",
            "Epoch 20/50\n",
            "62/62 [==============================] - 4s 58ms/step - loss: 3.9806e-05\n",
            "Epoch 21/50\n",
            "62/62 [==============================] - 4s 68ms/step - loss: 2.8625e-05\n",
            "Epoch 22/50\n",
            "62/62 [==============================] - 4s 57ms/step - loss: 2.8859e-05\n",
            "Epoch 23/50\n",
            "62/62 [==============================] - 4s 58ms/step - loss: 3.0227e-05\n",
            "Epoch 24/50\n",
            "62/62 [==============================] - 4s 72ms/step - loss: 2.9190e-05\n",
            "Epoch 25/50\n",
            "62/62 [==============================] - 4s 57ms/step - loss: 2.5128e-05\n",
            "Epoch 26/50\n",
            "62/62 [==============================] - 4s 58ms/step - loss: 2.5886e-05\n",
            "Epoch 27/50\n",
            "62/62 [==============================] - 4s 58ms/step - loss: 2.8940e-05\n",
            "Epoch 28/50\n",
            "62/62 [==============================] - 4s 58ms/step - loss: 2.3793e-05\n",
            "Epoch 29/50\n",
            "62/62 [==============================] - 4s 58ms/step - loss: 2.7508e-05\n",
            "Epoch 30/50\n",
            "62/62 [==============================] - 4s 59ms/step - loss: 2.4000e-05\n",
            "Epoch 31/50\n",
            "62/62 [==============================] - 4s 58ms/step - loss: 2.8381e-05\n",
            "Epoch 32/50\n",
            "62/62 [==============================] - 4s 57ms/step - loss: 2.4485e-05\n",
            "Epoch 33/50\n",
            "62/62 [==============================] - 4s 57ms/step - loss: 2.8901e-05\n",
            "Epoch 34/50\n",
            "62/62 [==============================] - 4s 60ms/step - loss: 2.4045e-05\n",
            "Epoch 35/50\n",
            "62/62 [==============================] - 4s 58ms/step - loss: 2.2112e-05\n",
            "Epoch 36/50\n",
            "62/62 [==============================] - 4s 58ms/step - loss: 2.2486e-05\n",
            "Epoch 37/50\n",
            "62/62 [==============================] - 4s 58ms/step - loss: 2.6038e-05\n",
            "Epoch 38/50\n",
            "62/62 [==============================] - 4s 58ms/step - loss: 2.3422e-05\n",
            "Epoch 39/50\n",
            "62/62 [==============================] - 4s 60ms/step - loss: 2.2223e-05\n",
            "Epoch 40/50\n",
            "62/62 [==============================] - 3s 56ms/step - loss: 2.1489e-05\n",
            "Epoch 41/50\n",
            "62/62 [==============================] - 4s 58ms/step - loss: 2.2864e-05\n",
            "Epoch 42/50\n",
            "62/62 [==============================] - 4s 57ms/step - loss: 2.1914e-05\n",
            "Epoch 43/50\n",
            "62/62 [==============================] - 4s 58ms/step - loss: 2.1037e-05\n",
            "Epoch 44/50\n",
            "62/62 [==============================] - 4s 57ms/step - loss: 1.7157e-05\n",
            "Epoch 45/50\n",
            "62/62 [==============================] - 4s 57ms/step - loss: 2.1929e-05\n",
            "Epoch 46/50\n",
            "62/62 [==============================] - 4s 58ms/step - loss: 1.8454e-05\n",
            "Epoch 47/50\n",
            "62/62 [==============================] - 4s 58ms/step - loss: 2.1207e-05\n",
            "Epoch 48/50\n",
            "62/62 [==============================] - 4s 58ms/step - loss: 1.6811e-05\n",
            "Epoch 49/50\n",
            "62/62 [==============================] - 4s 57ms/step - loss: 2.3091e-05\n",
            "Epoch 50/50\n",
            "62/62 [==============================] - 4s 58ms/step - loss: 1.8968e-05\n"
          ]
        },
        {
          "output_type": "display_data",
          "data": {
            "text/plain": [
              "<Figure size 432x288 with 1 Axes>"
            ],
            "image/png": "[encoded data removed]"
          },
          "metadata": {
            "needs_background": "light"
          }
        }
      ],
      "source": [
        "model_LSTM.train(X_train, Y_train, 50)"
      ]
    },
    {
      "cell_type": "markdown",
      "source": [
        "<div dir=rtl>\n",
        "\n",
        "در این قسمت عملکرد مدل را بررسی کرده است و loss شبکه را به دست می آورد.\n",
        "\n",
        "</div>"
      ],
      "metadata": {
        "id": "5kUjNGImRFj1"
      }
    },
    {
      "cell_type": "code",
      "execution_count": 22,
      "metadata": {
        "colab": {
          "base_uri": "https://localhost:8080/"
        },
        "id": "skOMZJf5-RDE",
        "outputId": "edd2e54d-a186-4aaa-f02e-eee360dd89d9"
      },
      "outputs": [
        {
          "output_type": "stream",
          "name": "stdout",
          "text": [
            "\n",
            "Evaluate result:\n",
            "15/15 [==============================] - 2s 16ms/step - loss: 6.9478e-05\n"
          ]
        }
      ],
      "source": [
        "model_LSTM.evaluate(X_test, Y_test)"
      ]
    },
    {
      "cell_type": "markdown",
      "source": [
        "\n",
        "<div dir=rtl>\n",
        "\n",
        "در سلول پایین نمودار مقدار حقیقی و مقدار پیشبینی شده را رسم میکند.\n",
        "\n",
        "</div>"
      ],
      "metadata": {
        "id": "U1ITZd1PRV6R"
      }
    },
    {
      "cell_type": "code",
      "execution_count": 23,
      "metadata": {
        "colab": {
          "base_uri": "https://localhost:8080/",
          "height": 313
        },
        "id": "dbTNKmf9-RDE",
        "outputId": "a16bfa16-87ae-47e0-fb1b-99a64e516340"
      },
      "outputs": [
        {
          "output_type": "stream",
          "name": "stdout",
          "text": [
            "15/15 [==============================] - 2s 15ms/step\n"
          ]
        },
        {
          "output_type": "display_data",
          "data": {
            "text/plain": [
              "<Figure size 432x288 with 1 Axes>"
            ],
            "image/png": "[encoded data removed]"
          },
          "metadata": {
            "needs_background": "light"
          }
        }
      ],
      "source": [
        "model_LSTM.predict(X_test, Y_test)"
      ]
    },
    {
      "cell_type": "markdown",
      "metadata": {
        "id": "C8rMmXwZ-RDE"
      },
      "source": [
        "## Build GRU model"
      ]
    },
    {
      "cell_type": "markdown",
      "source": [
        "<div dir=rtl>\n",
        "\n",
        "در این قسمت شبکه ی GRU با مقدار dropout ،برابر با صفر\n",
        "با تابع بهینه ساز adam و تابع MSE loss ساخته شده است.\n",
        "\n",
        "</div>"
      ],
      "metadata": {
        "id": "cuI7qxNdRqW2"
      }
    },
    {
      "cell_type": "code",
      "execution_count": 24,
      "metadata": {
        "colab": {
          "base_uri": "https://localhost:8080/"
        },
        "id": "dWB19Hz2-RDF",
        "outputId": "4ad3c65a-d119-454e-dd1c-078aacdac2fb"
      },
      "outputs": [
        {
          "output_type": "stream",
          "name": "stdout",
          "text": [
            "Model: \"sequential_1\"\n",
            "_________________________________________________________________\n",
            " Layer (type)                Output Shape              Param #   \n",
            "=================================================================\n",
            " gru (GRU)                   (None, 30, 50)            7950      \n",
            "                                                                 \n",
            " dropout_5 (Dropout)         (None, 30, 50)            0         \n",
            "                                                                 \n",
            " gru_1 (GRU)                 (None, 30, 50)            15300     \n",
            "                                                                 \n",
            " dropout_6 (Dropout)         (None, 30, 50)            0         \n",
            "                                                                 \n",
            " gru_2 (GRU)                 (None, 30, 50)            15300     \n",
            "                                                                 \n",
            " dropout_7 (Dropout)         (None, 30, 50)            0         \n",
            "                                                                 \n",
            " gru_3 (GRU)                 (None, 50)                15300     \n",
            "                                                                 \n",
            " dropout_8 (Dropout)         (None, 50)                0         \n",
            "                                                                 \n",
            " dense_1 (Dense)             (None, 1)                 51        \n",
            "                                                                 \n",
            "=================================================================\n",
            "Total params: 53,901\n",
            "Trainable params: 53,901\n",
            "Non-trainable params: 0\n",
            "_________________________________________________________________\n"
          ]
        }
      ],
      "source": [
        "model_GRU = RNN('GRU', X_train.shape[1], 0, 'adam', 'mean_squared_error')"
      ]
    },
    {
      "cell_type": "markdown",
      "source": [
        "<div dir=rtl>\n",
        "\n",
        "این شبکه با استفاده از داده های آموزش به اندازه ی 50 ایپاک آموزش دیده است.\n",
        "\n",
        "</div>"
      ],
      "metadata": {
        "id": "I6ZhL91aScPh"
      }
    },
    {
      "cell_type": "code",
      "execution_count": 25,
      "metadata": {
        "colab": {
          "base_uri": "https://localhost:8080/",
          "height": 1000
        },
        "id": "dx-27oCW-RDF",
        "outputId": "ba0dd187-49fa-4a8c-d765-d5ef76e4e025"
      },
      "outputs": [
        {
          "output_type": "stream",
          "name": "stdout",
          "text": [
            "Epoch 1/50\n",
            "62/62 [==============================] - 20s 120ms/step - loss: 0.0015\n",
            "Epoch 2/50\n",
            "62/62 [==============================] - 4s 62ms/step - loss: 1.8107e-05\n",
            "Epoch 3/50\n",
            "62/62 [==============================] - 4s 59ms/step - loss: 1.5652e-05\n",
            "Epoch 4/50\n",
            "62/62 [==============================] - 4s 58ms/step - loss: 1.5111e-05\n",
            "Epoch 5/50\n",
            "62/62 [==============================] - 4s 58ms/step - loss: 1.8270e-05\n",
            "Epoch 6/50\n",
            "62/62 [==============================] - 4s 59ms/step - loss: 1.4803e-05\n",
            "Epoch 7/50\n",
            "62/62 [==============================] - 4s 59ms/step - loss: 1.3934e-05\n",
            "Epoch 8/50\n",
            "62/62 [==============================] - 4s 57ms/step - loss: 1.4741e-05\n",
            "Epoch 9/50\n",
            "62/62 [==============================] - 4s 58ms/step - loss: 1.4905e-05\n",
            "Epoch 10/50\n",
            "62/62 [==============================] - 4s 59ms/step - loss: 1.3459e-05\n",
            "Epoch 11/50\n",
            "62/62 [==============================] - 4s 58ms/step - loss: 1.6370e-05\n",
            "Epoch 12/50\n",
            "62/62 [==============================] - 4s 58ms/step - loss: 1.2748e-05\n",
            "Epoch 13/50\n",
            "62/62 [==============================] - 4s 58ms/step - loss: 1.5724e-05\n",
            "Epoch 14/50\n",
            "62/62 [==============================] - 4s 58ms/step - loss: 1.3098e-05\n",
            "Epoch 15/50\n",
            "62/62 [==============================] - 4s 58ms/step - loss: 1.3174e-05\n",
            "Epoch 16/50\n",
            "62/62 [==============================] - 4s 58ms/step - loss: 1.1846e-05\n",
            "Epoch 17/50\n",
            "62/62 [==============================] - 4s 58ms/step - loss: 1.0816e-05\n",
            "Epoch 18/50\n",
            "62/62 [==============================] - 4s 58ms/step - loss: 1.0455e-05\n",
            "Epoch 19/50\n",
            "62/62 [==============================] - 4s 60ms/step - loss: 1.5080e-05\n",
            "Epoch 20/50\n",
            "62/62 [==============================] - 4s 58ms/step - loss: 1.3306e-05\n",
            "Epoch 21/50\n",
            "62/62 [==============================] - 4s 59ms/step - loss: 1.1576e-05\n",
            "Epoch 22/50\n",
            "62/62 [==============================] - 4s 69ms/step - loss: 1.2565e-05\n",
            "Epoch 23/50\n",
            "62/62 [==============================] - 4s 58ms/step - loss: 1.4741e-05\n",
            "Epoch 24/50\n",
            "62/62 [==============================] - 4s 59ms/step - loss: 9.3179e-06\n",
            "Epoch 25/50\n",
            "62/62 [==============================] - 4s 58ms/step - loss: 1.0264e-05\n",
            "Epoch 26/50\n",
            "62/62 [==============================] - 4s 59ms/step - loss: 8.2575e-06\n",
            "Epoch 27/50\n",
            "62/62 [==============================] - 4s 61ms/step - loss: 8.4435e-06\n",
            "Epoch 28/50\n",
            "62/62 [==============================] - 4s 59ms/step - loss: 1.0237e-05\n",
            "Epoch 29/50\n",
            "62/62 [==============================] - 4s 60ms/step - loss: 9.8348e-06\n",
            "Epoch 30/50\n",
            "62/62 [==============================] - 4s 60ms/step - loss: 8.5935e-06\n",
            "Epoch 31/50\n",
            "62/62 [==============================] - 4s 59ms/step - loss: 6.9380e-06\n",
            "Epoch 32/50\n",
            "62/62 [==============================] - 4s 59ms/step - loss: 1.1719e-05\n",
            "Epoch 33/50\n",
            "62/62 [==============================] - 4s 60ms/step - loss: 1.2308e-05\n",
            "Epoch 34/50\n",
            "62/62 [==============================] - 4s 59ms/step - loss: 7.6384e-06\n",
            "Epoch 35/50\n",
            "62/62 [==============================] - 4s 60ms/step - loss: 7.5330e-06\n",
            "Epoch 36/50\n",
            "62/62 [==============================] - 4s 59ms/step - loss: 1.1654e-05\n",
            "Epoch 37/50\n",
            "62/62 [==============================] - 4s 59ms/step - loss: 6.4030e-06\n",
            "Epoch 38/50\n",
            "62/62 [==============================] - 4s 60ms/step - loss: 7.0997e-06\n",
            "Epoch 39/50\n",
            "62/62 [==============================] - 4s 59ms/step - loss: 6.9430e-06\n",
            "Epoch 40/50\n",
            "62/62 [==============================] - 4s 61ms/step - loss: 6.5769e-06\n",
            "Epoch 41/50\n",
            "62/62 [==============================] - 5s 77ms/step - loss: 6.9898e-06\n",
            "Epoch 42/50\n",
            "62/62 [==============================] - 4s 59ms/step - loss: 5.9811e-06\n",
            "Epoch 43/50\n",
            "62/62 [==============================] - 4s 60ms/step - loss: 6.5277e-06\n",
            "Epoch 44/50\n",
            "62/62 [==============================] - 4s 59ms/step - loss: 8.3781e-06\n",
            "Epoch 45/50\n",
            "62/62 [==============================] - 4s 59ms/step - loss: 7.5667e-06\n",
            "Epoch 46/50\n",
            "62/62 [==============================] - 4s 61ms/step - loss: 8.7840e-06\n",
            "Epoch 47/50\n",
            "62/62 [==============================] - 4s 59ms/step - loss: 8.5034e-06\n",
            "Epoch 48/50\n",
            "62/62 [==============================] - 4s 60ms/step - loss: 6.2200e-06\n",
            "Epoch 49/50\n",
            "62/62 [==============================] - 4s 59ms/step - loss: 8.8021e-06\n",
            "Epoch 50/50\n",
            "62/62 [==============================] - 4s 59ms/step - loss: 1.0481e-05\n"
          ]
        },
        {
          "output_type": "display_data",
          "data": {
            "text/plain": [
              "<Figure size 432x288 with 1 Axes>"
            ],
            "image/png": "[encoded data removed]"
          },
          "metadata": {
            "needs_background": "light"
          }
        }
      ],
      "source": [
        "model_GRU.train(X_train, Y_train, 50)"
      ]
    },
    {
      "cell_type": "markdown",
      "source": [
        "<div dir=rtl>\n",
        "\n",
        "در این قسمت عملکرد مدل را بررسی کرده است و loss شبکه را به دست می آورد.\n",
        "\n",
        "</div>"
      ],
      "metadata": {
        "id": "QW_bc1xXSx64"
      }
    },
    {
      "cell_type": "code",
      "execution_count": 26,
      "metadata": {
        "colab": {
          "base_uri": "https://localhost:8080/"
        },
        "id": "TkXk43fc-RDF",
        "outputId": "3bb58f59-bd21-4197-bc1e-8d0b213ab3c2"
      },
      "outputs": [
        {
          "output_type": "stream",
          "name": "stdout",
          "text": [
            "\n",
            "Evaluate result:\n",
            "15/15 [==============================] - 2s 14ms/step - loss: 2.5115e-05\n"
          ]
        }
      ],
      "source": [
        "model_GRU.evaluate(X_test, Y_test)"
      ]
    },
    {
      "cell_type": "markdown",
      "source": [
        "\n",
        "<div dir=rtl>\n",
        "\n",
        "در سلول پایین نمودار مقدار حقیقی و مقدار پیشبینی شده را رسم میکند.\n",
        "\n",
        "</div>"
      ],
      "metadata": {
        "id": "HFHq4Ny-TYaE"
      }
    },
    {
      "cell_type": "code",
      "execution_count": 27,
      "metadata": {
        "colab": {
          "base_uri": "https://localhost:8080/",
          "height": 313
        },
        "id": "r1HCRODv-RDG",
        "outputId": "0b1e2b8f-ce59-4ce4-980b-10e1c3526d62"
      },
      "outputs": [
        {
          "output_type": "stream",
          "name": "stdout",
          "text": [
            "15/15 [==============================] - 2s 14ms/step\n"
          ]
        },
        {
          "output_type": "display_data",
          "data": {
            "text/plain": [
              "<Figure size 432x288 with 1 Axes>"
            ],
            "image/png": "[encoded data removed]"
          },
          "metadata": {
            "needs_background": "light"
          }
        }
      ],
      "source": [
        "model_GRU.predict(X_test, Y_test)"
      ]
    },
    {
      "cell_type": "markdown",
      "source": [
        "## الف\n",
        "\n",
        "<div dir=rtl>\n",
        "\n",
        "در این قسمت دو مدل یکی بر پایه ی کامنپوننت های GRU و دیگری بر پایه ی کامپوننت های LSTM ساخته شدند.\n",
        "\n",
        "هر دو مدل از تابع بهینه سازی Adam و MSE loss استفاده کردند.\n",
        "\n",
        "پس از آموزش روی مجموعه داده ی آموزشی و بررسی عملکرد مدل روی داده های تست میبینیم مدل مبتنی بر GRU نسبت به مدل مبتنی بر LSTM مقدار loss کمتری در زمان آموزش دارد.\n",
        "\n",
        "همچنین مقدار loss در زمان تست برای شبکه مبتنی بر GRU کمتر است از مقدار loss برای شبکه مبتنی بر LSTM.\n",
        "\n",
        "با مشاهده نمودارهای مقدار حقیقی و مقدار پیشبینی شده هم درمیابیم که عملکرد مدل GRU به نسبت مدل LSTM بروی داده های تست، عملکرد بهتری بوده است.\n",
        "\n",
        "* بهترین مدل تا این مرحله مدل GRU با بهینه ساز adam و MSE Loss است.\n",
        "\n",
        "</div>"
      ],
      "metadata": {
        "id": "l-zRmM1IU5QI"
      }
    },
    {
      "cell_type": "markdown",
      "metadata": {
        "id": "iw6IRfcV-RDG"
      },
      "source": [
        "## Build LSTM model - RMSProp"
      ]
    },
    {
      "cell_type": "markdown",
      "source": [
        "<div dir=rtl>\n",
        "\n",
        "در این قسمت شبکه ی LSTM با مقدار dropout ،برابر با صفر\n",
        "با تابع بهینه ساز RMSProp و تابع MSE loss ساخته شده است.\n",
        "\n",
        "</div>"
      ],
      "metadata": {
        "id": "9uKUe5upRuRn"
      }
    },
    {
      "cell_type": "code",
      "execution_count": 28,
      "metadata": {
        "colab": {
          "base_uri": "https://localhost:8080/"
        },
        "id": "Dx1kuczN-RDG",
        "outputId": "34c701c5-7ea6-4f9a-92f1-dd146de926b2"
      },
      "outputs": [
        {
          "output_type": "stream",
          "name": "stdout",
          "text": [
            "Model: \"sequential_2\"\n",
            "_________________________________________________________________\n",
            " Layer (type)                Output Shape              Param #   \n",
            "=================================================================\n",
            " lstm_4 (LSTM)               (None, 30, 50)            10400     \n",
            "                                                                 \n",
            " dropout_9 (Dropout)         (None, 30, 50)            0         \n",
            "                                                                 \n",
            " lstm_5 (LSTM)               (None, 30, 50)            20200     \n",
            "                                                                 \n",
            " dropout_10 (Dropout)        (None, 30, 50)            0         \n",
            "                                                                 \n",
            " lstm_6 (LSTM)               (None, 30, 50)            20200     \n",
            "                                                                 \n",
            " dropout_11 (Dropout)        (None, 30, 50)            0         \n",
            "                                                                 \n",
            " lstm_7 (LSTM)               (None, 50)                20200     \n",
            "                                                                 \n",
            " dropout_12 (Dropout)        (None, 50)                0         \n",
            "                                                                 \n",
            " dense_2 (Dense)             (None, 1)                 51        \n",
            "                                                                 \n",
            " dropout_13 (Dropout)        (None, 1)                 0         \n",
            "                                                                 \n",
            "=================================================================\n",
            "Total params: 71,051\n",
            "Trainable params: 71,051\n",
            "Non-trainable params: 0\n",
            "_________________________________________________________________\n"
          ]
        }
      ],
      "source": [
        "model_LSTM_rmsprop = RNN('LSTM', X_train.shape[1], 0, 'rmsprop', 'mean_squared_error')"
      ]
    },
    {
      "cell_type": "markdown",
      "source": [
        "<div dir=rtl>\n",
        "\n",
        "این شبکه با استفاده از داده های آموزش به اندازه ی 50 ایپاک آموزش دیده است.\n",
        "\n",
        "</div>"
      ],
      "metadata": {
        "id": "AnrNjBJISeox"
      }
    },
    {
      "cell_type": "code",
      "execution_count": 29,
      "metadata": {
        "colab": {
          "base_uri": "https://localhost:8080/",
          "height": 1000
        },
        "id": "2-cM6pro-RDG",
        "outputId": "457f68a9-6e8a-4964-905c-af683c9d0826"
      },
      "outputs": [
        {
          "output_type": "stream",
          "name": "stdout",
          "text": [
            "Epoch 1/50\n",
            "62/62 [==============================] - 11s 59ms/step - loss: 0.0015\n",
            "Epoch 2/50\n",
            "62/62 [==============================] - 4s 59ms/step - loss: 6.5037e-04\n",
            "Epoch 3/50\n",
            "62/62 [==============================] - 4s 58ms/step - loss: 4.2321e-04\n",
            "Epoch 4/50\n",
            "62/62 [==============================] - 4s 56ms/step - loss: 3.1889e-04\n",
            "Epoch 5/50\n",
            "62/62 [==============================] - 4s 60ms/step - loss: 2.5641e-04\n",
            "Epoch 6/50\n",
            "62/62 [==============================] - 4s 61ms/step - loss: 2.4505e-04\n",
            "Epoch 7/50\n",
            "62/62 [==============================] - 5s 84ms/step - loss: 2.1667e-04\n",
            "Epoch 8/50\n",
            "62/62 [==============================] - 4s 71ms/step - loss: 1.8785e-04\n",
            "Epoch 9/50\n",
            "62/62 [==============================] - 5s 83ms/step - loss: 1.7437e-04\n",
            "Epoch 10/50\n",
            "62/62 [==============================] - 4s 58ms/step - loss: 1.6297e-04\n",
            "Epoch 11/50\n",
            "62/62 [==============================] - 5s 75ms/step - loss: 1.5494e-04\n",
            "Epoch 12/50\n",
            "62/62 [==============================] - 4s 58ms/step - loss: 1.3362e-04\n",
            "Epoch 13/50\n",
            "62/62 [==============================] - 4s 60ms/step - loss: 1.3274e-04\n",
            "Epoch 14/50\n",
            "62/62 [==============================] - 4s 57ms/step - loss: 1.1365e-04\n",
            "Epoch 15/50\n",
            "62/62 [==============================] - 4s 63ms/step - loss: 1.1918e-04\n",
            "Epoch 16/50\n",
            "62/62 [==============================] - 4s 58ms/step - loss: 1.1463e-04\n",
            "Epoch 17/50\n",
            "62/62 [==============================] - 5s 74ms/step - loss: 1.0905e-04\n",
            "Epoch 18/50\n",
            "62/62 [==============================] - 4s 58ms/step - loss: 1.0963e-04\n",
            "Epoch 19/50\n",
            "62/62 [==============================] - 4s 58ms/step - loss: 9.9874e-05\n",
            "Epoch 20/50\n",
            "62/62 [==============================] - 5s 73ms/step - loss: 8.3303e-05\n",
            "Epoch 21/50\n",
            "62/62 [==============================] - 4s 70ms/step - loss: 9.5840e-05\n",
            "Epoch 22/50\n",
            "62/62 [==============================] - 4s 62ms/step - loss: 7.9743e-05\n",
            "Epoch 23/50\n",
            "62/62 [==============================] - 4s 63ms/step - loss: 8.7608e-05\n",
            "Epoch 24/50\n",
            "62/62 [==============================] - 5s 83ms/step - loss: 7.8464e-05\n",
            "Epoch 25/50\n",
            "62/62 [==============================] - 5s 77ms/step - loss: 7.2721e-05\n",
            "Epoch 26/50\n",
            "62/62 [==============================] - 5s 77ms/step - loss: 7.1049e-05\n",
            "Epoch 27/50\n",
            "62/62 [==============================] - 6s 95ms/step - loss: 7.5059e-05\n",
            "Epoch 28/50\n",
            "62/62 [==============================] - 5s 74ms/step - loss: 6.9997e-05\n",
            "Epoch 29/50\n",
            "62/62 [==============================] - 5s 74ms/step - loss: 6.7230e-05\n",
            "Epoch 30/50\n",
            "62/62 [==============================] - 5s 79ms/step - loss: 6.6730e-05\n",
            "Epoch 31/50\n",
            "62/62 [==============================] - 5s 75ms/step - loss: 5.8119e-05\n",
            "Epoch 32/50\n",
            "62/62 [==============================] - 5s 74ms/step - loss: 6.4322e-05\n",
            "Epoch 33/50\n",
            "62/62 [==============================] - 5s 74ms/step - loss: 6.3768e-05\n",
            "Epoch 34/50\n",
            "62/62 [==============================] - 5s 76ms/step - loss: 6.1402e-05\n",
            "Epoch 35/50\n",
            "62/62 [==============================] - 4s 71ms/step - loss: 5.1353e-05\n",
            "Epoch 36/50\n",
            "62/62 [==============================] - 5s 75ms/step - loss: 5.8606e-05\n",
            "Epoch 37/50\n",
            "62/62 [==============================] - 4s 72ms/step - loss: 5.2513e-05\n",
            "Epoch 38/50\n",
            "62/62 [==============================] - 4s 70ms/step - loss: 5.3651e-05\n",
            "Epoch 39/50\n",
            "62/62 [==============================] - 4s 63ms/step - loss: 5.3252e-05\n",
            "Epoch 40/50\n",
            "62/62 [==============================] - 5s 73ms/step - loss: 5.0008e-05\n",
            "Epoch 41/50\n",
            "62/62 [==============================] - 5s 73ms/step - loss: 4.9775e-05\n",
            "Epoch 42/50\n",
            "62/62 [==============================] - 5s 75ms/step - loss: 4.8708e-05\n",
            "Epoch 43/50\n",
            "62/62 [==============================] - 4s 71ms/step - loss: 4.6638e-05\n",
            "Epoch 44/50\n",
            "62/62 [==============================] - 5s 74ms/step - loss: 5.1007e-05\n",
            "Epoch 45/50\n",
            "62/62 [==============================] - 3s 56ms/step - loss: 4.4639e-05\n",
            "Epoch 46/50\n",
            "62/62 [==============================] - 4s 63ms/step - loss: 4.3903e-05\n",
            "Epoch 47/50\n",
            "62/62 [==============================] - 4s 68ms/step - loss: 4.4744e-05\n",
            "Epoch 48/50\n",
            "62/62 [==============================] - 6s 94ms/step - loss: 4.0945e-05\n",
            "Epoch 49/50\n",
            "62/62 [==============================] - 5s 84ms/step - loss: 4.4241e-05\n",
            "Epoch 50/50\n",
            "62/62 [==============================] - 5s 77ms/step - loss: 4.1790e-05\n"
          ]
        },
        {
          "output_type": "display_data",
          "data": {
            "text/plain": [
              "<Figure size 432x288 with 1 Axes>"
            ],
            "image/png": "[encoded data removed]"
          },
          "metadata": {
            "needs_background": "light"
          }
        }
      ],
      "source": [
        "model_LSTM_rmsprop.train(X_train, Y_train, 50)"
      ]
    },
    {
      "cell_type": "markdown",
      "source": [
        "<div dir=rtl>\n",
        "\n",
        "در این قسمت عملکرد مدل را بررسی کرده است و loss شبکه را به دست می آورد.\n",
        "\n",
        "</div>"
      ],
      "metadata": {
        "id": "ZbOKP_utS0Le"
      }
    },
    {
      "cell_type": "code",
      "execution_count": 30,
      "metadata": {
        "colab": {
          "base_uri": "https://localhost:8080/"
        },
        "id": "fOtaSDrr-RDH",
        "outputId": "8b4ef366-b92c-4928-b9ed-07519a8e97a3"
      },
      "outputs": [
        {
          "output_type": "stream",
          "name": "stdout",
          "text": [
            "\n",
            "Evaluate result:\n",
            "15/15 [==============================] - 2s 25ms/step - loss: 2.4960e-04\n"
          ]
        }
      ],
      "source": [
        "model_LSTM_rmsprop.evaluate(X_test, Y_test)"
      ]
    },
    {
      "cell_type": "markdown",
      "source": [
        "\n",
        "<div dir=rtl>\n",
        "\n",
        "در سلول پایین نمودار مقدار حقیقی و مقدار پیشبینی شده را رسم میکند.\n",
        "\n",
        "</div>"
      ],
      "metadata": {
        "id": "iC6bmGF8TadC"
      }
    },
    {
      "cell_type": "code",
      "execution_count": 31,
      "metadata": {
        "colab": {
          "base_uri": "https://localhost:8080/",
          "height": 313
        },
        "id": "IVVK4lzV-RDH",
        "outputId": "a3f410f1-8570-4929-efbe-055553acf5c2"
      },
      "outputs": [
        {
          "output_type": "stream",
          "name": "stdout",
          "text": [
            "15/15 [==============================] - 2s 20ms/step\n"
          ]
        },
        {
          "output_type": "display_data",
          "data": {
            "text/plain": [
              "<Figure size 432x288 with 1 Axes>"
            ],
            "image/png": "[encoded data removed]"
          },
          "metadata": {
            "needs_background": "light"
          }
        }
      ],
      "source": [
        "model_LSTM_rmsprop.predict(X_test, Y_test)"
      ]
    },
    {
      "cell_type": "markdown",
      "metadata": {
        "id": "WsO93nof-RDI"
      },
      "source": [
        "## Build GRU model - RMSProp"
      ]
    },
    {
      "cell_type": "markdown",
      "source": [
        "<div dir=rtl>\n",
        "\n",
        "در این قسمت شبکه ی GRU با مقدار dropout ،برابر با صفر\n",
        "با تابع بهینه ساز RMSProp و تابع MSE loss ساخته شده است.\n",
        "\n",
        "</div>"
      ],
      "metadata": {
        "id": "pvEnu21QRzU-"
      }
    },
    {
      "cell_type": "code",
      "execution_count": 32,
      "metadata": {
        "colab": {
          "base_uri": "https://localhost:8080/"
        },
        "id": "CQ3rdcg1-RDI",
        "outputId": "a0ea9d2a-237e-4bb6-a797-bffc738ff542"
      },
      "outputs": [
        {
          "output_type": "stream",
          "name": "stdout",
          "text": [
            "Model: \"sequential_3\"\n",
            "_________________________________________________________________\n",
            " Layer (type)                Output Shape              Param #   \n",
            "=================================================================\n",
            " gru_4 (GRU)                 (None, 30, 50)            7950      \n",
            "                                                                 \n",
            " dropout_14 (Dropout)        (None, 30, 50)            0         \n",
            "                                                                 \n",
            " gru_5 (GRU)                 (None, 30, 50)            15300     \n",
            "                                                                 \n",
            " dropout_15 (Dropout)        (None, 30, 50)            0         \n",
            "                                                                 \n",
            " gru_6 (GRU)                 (None, 30, 50)            15300     \n",
            "                                                                 \n",
            " dropout_16 (Dropout)        (None, 30, 50)            0         \n",
            "                                                                 \n",
            " gru_7 (GRU)                 (None, 50)                15300     \n",
            "                                                                 \n",
            " dropout_17 (Dropout)        (None, 50)                0         \n",
            "                                                                 \n",
            " dense_3 (Dense)             (None, 1)                 51        \n",
            "                                                                 \n",
            "=================================================================\n",
            "Total params: 53,901\n",
            "Trainable params: 53,901\n",
            "Non-trainable params: 0\n",
            "_________________________________________________________________\n"
          ]
        }
      ],
      "source": [
        "model_GRU_rmsprop = RNN('GRU', X_train.shape[1], 0, 'rmsprop', 'mean_squared_error')"
      ]
    },
    {
      "cell_type": "markdown",
      "source": [
        "<div dir=rtl>\n",
        "\n",
        "این شبکه با استفاده از داده های آموزش به اندازه ی 50 ایپاک آموزش دیده است.\n",
        "\n",
        "</div>"
      ],
      "metadata": {
        "id": "aAoV9YCrSgnA"
      }
    },
    {
      "cell_type": "code",
      "execution_count": 33,
      "metadata": {
        "colab": {
          "base_uri": "https://localhost:8080/",
          "height": 1000
        },
        "id": "dj_MPHdi-RDJ",
        "outputId": "b8566892-2155-4a73-e0e6-0d2a5f016a1f"
      },
      "outputs": [
        {
          "output_type": "stream",
          "name": "stdout",
          "text": [
            "Epoch 1/50\n",
            "62/62 [==============================] - 14s 75ms/step - loss: 0.0013\n",
            "Epoch 2/50\n",
            "62/62 [==============================] - 5s 75ms/step - loss: 5.7352e-04\n",
            "Epoch 3/50\n",
            "62/62 [==============================] - 5s 75ms/step - loss: 4.6889e-04\n",
            "Epoch 4/50\n",
            "62/62 [==============================] - 5s 75ms/step - loss: 3.5479e-04\n",
            "Epoch 5/50\n",
            "62/62 [==============================] - 4s 71ms/step - loss: 3.1554e-04\n",
            "Epoch 6/50\n",
            "62/62 [==============================] - 4s 60ms/step - loss: 2.6940e-04\n",
            "Epoch 7/50\n",
            "62/62 [==============================] - 5s 76ms/step - loss: 2.1474e-04\n",
            "Epoch 8/50\n",
            "62/62 [==============================] - 6s 93ms/step - loss: 2.1176e-04\n",
            "Epoch 9/50\n",
            "62/62 [==============================] - 5s 77ms/step - loss: 1.8004e-04\n",
            "Epoch 10/50\n",
            "62/62 [==============================] - 4s 72ms/step - loss: 1.7293e-04\n",
            "Epoch 11/50\n",
            "62/62 [==============================] - 4s 59ms/step - loss: 1.5413e-04\n",
            "Epoch 12/50\n",
            "62/62 [==============================] - 4s 66ms/step - loss: 1.3887e-04\n",
            "Epoch 13/50\n",
            "62/62 [==============================] - 4s 70ms/step - loss: 1.4232e-04\n",
            "Epoch 14/50\n",
            "62/62 [==============================] - 5s 74ms/step - loss: 1.2182e-04\n",
            "Epoch 15/50\n",
            "62/62 [==============================] - 5s 74ms/step - loss: 1.3255e-04\n",
            "Epoch 16/50\n",
            "62/62 [==============================] - 5s 76ms/step - loss: 1.0612e-04\n",
            "Epoch 17/50\n",
            "62/62 [==============================] - 5s 82ms/step - loss: 1.1622e-04\n",
            "Epoch 18/50\n",
            "62/62 [==============================] - 6s 90ms/step - loss: 9.9254e-05\n",
            "Epoch 19/50\n",
            "62/62 [==============================] - 5s 87ms/step - loss: 9.6096e-05\n",
            "Epoch 20/50\n",
            "62/62 [==============================] - 4s 70ms/step - loss: 9.9020e-05\n",
            "Epoch 21/50\n",
            "62/62 [==============================] - 4s 71ms/step - loss: 9.3705e-05\n",
            "Epoch 22/50\n",
            "62/62 [==============================] - 5s 73ms/step - loss: 8.7937e-05\n",
            "Epoch 23/50\n",
            "62/62 [==============================] - 5s 73ms/step - loss: 8.7067e-05\n",
            "Epoch 24/50\n",
            "62/62 [==============================] - 4s 58ms/step - loss: 8.6344e-05\n",
            "Epoch 25/50\n",
            "62/62 [==============================] - 4s 60ms/step - loss: 7.7675e-05\n",
            "Epoch 26/50\n",
            "62/62 [==============================] - 4s 59ms/step - loss: 8.2329e-05\n",
            "Epoch 27/50\n",
            "62/62 [==============================] - 4s 58ms/step - loss: 7.9373e-05\n",
            "Epoch 28/50\n",
            "62/62 [==============================] - 4s 61ms/step - loss: 7.4955e-05\n",
            "Epoch 29/50\n",
            "62/62 [==============================] - 4s 59ms/step - loss: 7.0313e-05\n",
            "Epoch 30/50\n",
            "62/62 [==============================] - 4s 61ms/step - loss: 7.0447e-05\n",
            "Epoch 31/50\n",
            "62/62 [==============================] - 4s 60ms/step - loss: 7.0599e-05\n",
            "Epoch 32/50\n",
            "62/62 [==============================] - 4s 58ms/step - loss: 6.0258e-05\n",
            "Epoch 33/50\n",
            "62/62 [==============================] - 4s 59ms/step - loss: 6.5500e-05\n",
            "Epoch 34/50\n",
            "62/62 [==============================] - 4s 59ms/step - loss: 7.0939e-05\n",
            "Epoch 35/50\n",
            "62/62 [==============================] - 4s 58ms/step - loss: 6.1502e-05\n",
            "Epoch 36/50\n",
            "62/62 [==============================] - 4s 59ms/step - loss: 5.9285e-05\n",
            "Epoch 37/50\n",
            "62/62 [==============================] - 4s 59ms/step - loss: 5.6818e-05\n",
            "Epoch 38/50\n",
            "62/62 [==============================] - 4s 59ms/step - loss: 6.2260e-05\n",
            "Epoch 39/50\n",
            "62/62 [==============================] - 4s 60ms/step - loss: 6.0575e-05\n",
            "Epoch 40/50\n",
            "62/62 [==============================] - 4s 59ms/step - loss: 5.7590e-05\n",
            "Epoch 41/50\n",
            "62/62 [==============================] - 4s 58ms/step - loss: 5.6480e-05\n",
            "Epoch 42/50\n",
            "62/62 [==============================] - 4s 58ms/step - loss: 5.4403e-05\n",
            "Epoch 43/50\n",
            "62/62 [==============================] - 4s 59ms/step - loss: 4.4791e-05\n",
            "Epoch 44/50\n",
            "62/62 [==============================] - 4s 59ms/step - loss: 5.9193e-05\n",
            "Epoch 45/50\n",
            "62/62 [==============================] - 4s 58ms/step - loss: 5.3839e-05\n",
            "Epoch 46/50\n",
            "62/62 [==============================] - 5s 83ms/step - loss: 5.0775e-05\n",
            "Epoch 47/50\n",
            "62/62 [==============================] - 4s 59ms/step - loss: 5.0723e-05\n",
            "Epoch 48/50\n",
            "62/62 [==============================] - 5s 88ms/step - loss: 5.3111e-05\n",
            "Epoch 49/50\n",
            "62/62 [==============================] - 5s 73ms/step - loss: 4.9029e-05\n",
            "Epoch 50/50\n",
            "62/62 [==============================] - 4s 68ms/step - loss: 4.8693e-05\n"
          ]
        },
        {
          "output_type": "display_data",
          "data": {
            "text/plain": [
              "<Figure size 432x288 with 1 Axes>"
            ],
            "image/png": "[encoded data removed]"
          },
          "metadata": {
            "needs_background": "light"
          }
        }
      ],
      "source": [
        "model_GRU_rmsprop.train(X_train, Y_train, 50)"
      ]
    },
    {
      "cell_type": "markdown",
      "source": [
        "<div dir=rtl>\n",
        "\n",
        "در این قسمت عملکرد مدل را بررسی کرده است و loss شبکه را به دست می آورد.\n",
        "\n",
        "</div>"
      ],
      "metadata": {
        "id": "3JHlKvqFS3vu"
      }
    },
    {
      "cell_type": "code",
      "execution_count": 34,
      "metadata": {
        "colab": {
          "base_uri": "https://localhost:8080/"
        },
        "id": "ddTxGYsr-RDJ",
        "outputId": "04e8cf65-cc70-40ac-de27-c759649d9ffd"
      },
      "outputs": [
        {
          "output_type": "stream",
          "name": "stdout",
          "text": [
            "\n",
            "Evaluate result:\n",
            "15/15 [==============================] - 3s 17ms/step - loss: 9.7852e-04\n"
          ]
        }
      ],
      "source": [
        "model_GRU_rmsprop.evaluate(X_test, Y_test)"
      ]
    },
    {
      "cell_type": "markdown",
      "source": [
        "\n",
        "<div dir=rtl>\n",
        "\n",
        "در سلول پایین نمودار مقدار حقیقی و مقدار پیشبینی شده را رسم میکند.\n",
        "\n",
        "</div>"
      ],
      "metadata": {
        "id": "IAYDlPeDTcVB"
      }
    },
    {
      "cell_type": "code",
      "execution_count": 35,
      "metadata": {
        "colab": {
          "base_uri": "https://localhost:8080/",
          "height": 313
        },
        "id": "FaxKV77t-RDK",
        "outputId": "769e2ada-1902-4ec6-9a27-803561d5d5df"
      },
      "outputs": [
        {
          "output_type": "stream",
          "name": "stdout",
          "text": [
            "15/15 [==============================] - 3s 39ms/step\n"
          ]
        },
        {
          "output_type": "display_data",
          "data": {
            "text/plain": [
              "<Figure size 432x288 with 1 Axes>"
            ],
            "image/png": "[encoded data removed]"
          },
          "metadata": {
            "needs_background": "light"
          }
        }
      ],
      "source": [
        "model_GRU_rmsprop.predict(X_test, Y_test)"
      ]
    },
    {
      "cell_type": "markdown",
      "source": [
        "## ب\n",
        "\n",
        "<div dir=rtl>\n",
        "\n",
        "### مدل مبتنی بر LSTM\n",
        "\n",
        "با مقایسه ی مدل مبتنی بر LSTM که یکبار از تابع بهینه ساز Adam و بار دیگر از تابع بهینه ساز RMSProp استفاده کرده است متوجه میشویم استفاده از بهینه ساز Adam نتیجه بسیار بهتری داشته است و مقدار loss در زمان تست با بهینه ساز adam حدودا یک دهم مقدار loss در زمان تست با بهینه ساز rmsprop است.\n",
        "\n",
        "### مدل مبتنی بر GRU\n",
        "\n",
        "با مقایسه ی مدل مبتنی بر GRU که یکبار از تابع بهینه ساز Adam و بار دیگر از تابع بهینه ساز RMSProp استفاده کرده است متوجه میشویم استفاده از بهینه ساز Adam نتیجه بسیار بهتری داشته است و مقدار loss در زمان تست با بهینه ساز adam حدودا یک چهلم مقدار loss در زمان تست با بهینه ساز rmsprop است.\n",
        "\n",
        "* بهترین مدل تا این مرحله مدل GRU با بهینه ساز adam و MSE Loss است.\n",
        "\n",
        "</div>"
      ],
      "metadata": {
        "id": "l2AB7u60Wcmc"
      }
    },
    {
      "cell_type": "markdown",
      "metadata": {
        "id": "DoYnY5Ht-RDK"
      },
      "source": [
        "## Build LSTM model - mean_absolute_percentage_error"
      ]
    },
    {
      "cell_type": "markdown",
      "source": [
        "<div dir=rtl>\n",
        "\n",
        "در این قسمت شبکه ی LSTM با مقدار dropout ،برابر با صفر\n",
        "با تابع بهینه ساز adam و تابع MAPE loss ساخته شده است.\n",
        "\n",
        "</div>"
      ],
      "metadata": {
        "id": "peeJFkW3R32l"
      }
    },
    {
      "cell_type": "code",
      "execution_count": 36,
      "metadata": {
        "colab": {
          "base_uri": "https://localhost:8080/"
        },
        "id": "U03RmemK-RDK",
        "outputId": "6be574bf-6d7b-4bbf-9a57-94d723194260"
      },
      "outputs": [
        {
          "output_type": "stream",
          "name": "stdout",
          "text": [
            "Model: \"sequential_4\"\n",
            "_________________________________________________________________\n",
            " Layer (type)                Output Shape              Param #   \n",
            "=================================================================\n",
            " lstm_8 (LSTM)               (None, 30, 50)            10400     \n",
            "                                                                 \n",
            " dropout_18 (Dropout)        (None, 30, 50)            0         \n",
            "                                                                 \n",
            " lstm_9 (LSTM)               (None, 30, 50)            20200     \n",
            "                                                                 \n",
            " dropout_19 (Dropout)        (None, 30, 50)            0         \n",
            "                                                                 \n",
            " lstm_10 (LSTM)              (None, 30, 50)            20200     \n",
            "                                                                 \n",
            " dropout_20 (Dropout)        (None, 30, 50)            0         \n",
            "                                                                 \n",
            " lstm_11 (LSTM)              (None, 50)                20200     \n",
            "                                                                 \n",
            " dropout_21 (Dropout)        (None, 50)                0         \n",
            "                                                                 \n",
            " dense_4 (Dense)             (None, 1)                 51        \n",
            "                                                                 \n",
            " dropout_22 (Dropout)        (None, 1)                 0         \n",
            "                                                                 \n",
            "=================================================================\n",
            "Total params: 71,051\n",
            "Trainable params: 71,051\n",
            "Non-trainable params: 0\n",
            "_________________________________________________________________\n"
          ]
        }
      ],
      "source": [
        "model_LSTM_mape = RNN('LSTM', X_train.shape[1], 0, 'adam', 'mean_absolute_percentage_error')"
      ]
    },
    {
      "cell_type": "markdown",
      "source": [
        "<div dir=rtl>\n",
        "\n",
        "این شبکه با استفاده از داده های آموزش به اندازه ی 50 ایپاک آموزش دیده است.\n",
        "\n",
        "</div>"
      ],
      "metadata": {
        "id": "T3YtLZO7Sipx"
      }
    },
    {
      "cell_type": "code",
      "execution_count": 37,
      "metadata": {
        "colab": {
          "base_uri": "https://localhost:8080/",
          "height": 1000
        },
        "id": "DUmG6HPr-RDL",
        "outputId": "20e1d476-0288-472a-f60f-45f34920b8e5"
      },
      "outputs": [
        {
          "output_type": "stream",
          "name": "stdout",
          "text": [
            "Epoch 1/50\n",
            "62/62 [==============================] - 11s 59ms/step - loss: 16.4808\n",
            "Epoch 2/50\n",
            "62/62 [==============================] - 4s 58ms/step - loss: 4.5664\n",
            "Epoch 3/50\n",
            "62/62 [==============================] - 4s 73ms/step - loss: 4.7514\n",
            "Epoch 4/50\n",
            "62/62 [==============================] - 5s 82ms/step - loss: 4.7312\n",
            "Epoch 5/50\n",
            "62/62 [==============================] - 5s 76ms/step - loss: 4.3806\n",
            "Epoch 6/50\n",
            "62/62 [==============================] - 5s 73ms/step - loss: 4.4673\n",
            "Epoch 7/50\n",
            "62/62 [==============================] - 5s 77ms/step - loss: 4.0372\n",
            "Epoch 8/50\n",
            "62/62 [==============================] - 5s 80ms/step - loss: 3.9792\n",
            "Epoch 9/50\n",
            "62/62 [==============================] - 5s 83ms/step - loss: 3.3771\n",
            "Epoch 10/50\n",
            "62/62 [==============================] - 5s 77ms/step - loss: 3.3040\n",
            "Epoch 11/50\n",
            "62/62 [==============================] - 4s 68ms/step - loss: 3.1784\n",
            "Epoch 12/50\n",
            "62/62 [==============================] - 5s 82ms/step - loss: 3.6518\n",
            "Epoch 13/50\n",
            "62/62 [==============================] - 4s 67ms/step - loss: 3.0722\n",
            "Epoch 14/50\n",
            "62/62 [==============================] - 5s 74ms/step - loss: 3.6635\n",
            "Epoch 15/50\n",
            "62/62 [==============================] - 5s 80ms/step - loss: 2.7786\n",
            "Epoch 16/50\n",
            "62/62 [==============================] - 5s 79ms/step - loss: 3.0026\n",
            "Epoch 17/50\n",
            "62/62 [==============================] - 5s 72ms/step - loss: 3.5372\n",
            "Epoch 18/50\n",
            "62/62 [==============================] - 5s 74ms/step - loss: 3.1997\n",
            "Epoch 19/50\n",
            "62/62 [==============================] - 5s 75ms/step - loss: 2.7415\n",
            "Epoch 20/50\n",
            "62/62 [==============================] - 5s 73ms/step - loss: 2.6711\n",
            "Epoch 21/50\n",
            "62/62 [==============================] - 5s 82ms/step - loss: 2.5443\n",
            "Epoch 22/50\n",
            "62/62 [==============================] - 5s 73ms/step - loss: 2.7390\n",
            "Epoch 23/50\n",
            "62/62 [==============================] - 5s 76ms/step - loss: 2.8948\n",
            "Epoch 24/50\n",
            "62/62 [==============================] - 5s 83ms/step - loss: 3.2117\n",
            "Epoch 25/50\n",
            "62/62 [==============================] - 5s 88ms/step - loss: 2.3311\n",
            "Epoch 26/50\n",
            "62/62 [==============================] - 4s 66ms/step - loss: 2.2719\n",
            "Epoch 27/50\n",
            "62/62 [==============================] - 4s 60ms/step - loss: 2.3724\n",
            "Epoch 28/50\n",
            "62/62 [==============================] - 4s 59ms/step - loss: 2.3617\n",
            "Epoch 29/50\n",
            "62/62 [==============================] - 4s 59ms/step - loss: 2.2931\n",
            "Epoch 30/50\n",
            "62/62 [==============================] - 4s 65ms/step - loss: 2.0352\n",
            "Epoch 31/50\n",
            "62/62 [==============================] - 5s 75ms/step - loss: 2.1975\n",
            "Epoch 32/50\n",
            "62/62 [==============================] - 4s 60ms/step - loss: 2.0949\n",
            "Epoch 33/50\n",
            "62/62 [==============================] - 4s 65ms/step - loss: 2.8312\n",
            "Epoch 34/50\n",
            "62/62 [==============================] - 4s 73ms/step - loss: 2.1844\n",
            "Epoch 35/50\n",
            "62/62 [==============================] - 4s 59ms/step - loss: 2.2103\n",
            "Epoch 36/50\n",
            "62/62 [==============================] - 4s 59ms/step - loss: 1.8083\n",
            "Epoch 37/50\n",
            "62/62 [==============================] - 4s 59ms/step - loss: 1.8755\n",
            "Epoch 38/50\n",
            "62/62 [==============================] - 4s 59ms/step - loss: 1.9780\n",
            "Epoch 39/50\n",
            "62/62 [==============================] - 4s 60ms/step - loss: 1.7380\n",
            "Epoch 40/50\n",
            "62/62 [==============================] - 4s 59ms/step - loss: 1.8389\n",
            "Epoch 41/50\n",
            "62/62 [==============================] - 4s 60ms/step - loss: 1.6917\n",
            "Epoch 42/50\n",
            "62/62 [==============================] - 4s 59ms/step - loss: 1.6478\n",
            "Epoch 43/50\n",
            "62/62 [==============================] - 4s 58ms/step - loss: 1.6422\n",
            "Epoch 44/50\n",
            "62/62 [==============================] - 4s 59ms/step - loss: 1.5505\n",
            "Epoch 45/50\n",
            "62/62 [==============================] - 4s 58ms/step - loss: 1.6127\n",
            "Epoch 46/50\n",
            "62/62 [==============================] - 4s 59ms/step - loss: 1.3733\n",
            "Epoch 47/50\n",
            "62/62 [==============================] - 4s 62ms/step - loss: 2.0850\n",
            "Epoch 48/50\n",
            "62/62 [==============================] - 4s 59ms/step - loss: 2.4249\n",
            "Epoch 49/50\n",
            "62/62 [==============================] - 4s 59ms/step - loss: 1.3310\n",
            "Epoch 50/50\n",
            "62/62 [==============================] - 5s 86ms/step - loss: 1.5645\n"
          ]
        },
        {
          "output_type": "display_data",
          "data": {
            "text/plain": [
              "<Figure size 432x288 with 1 Axes>"
            ],
            "image/png": "[encoded data removed]"
          },
          "metadata": {
            "needs_background": "light"
          }
        }
      ],
      "source": [
        "model_LSTM_mape.train(X_train, Y_train, 50)"
      ]
    },
    {
      "cell_type": "markdown",
      "source": [
        "<div dir=rtl>\n",
        "\n",
        "در این قسمت عملکرد مدل را بررسی کرده است و loss شبکه را به دست می آورد.\n",
        "\n",
        "</div>"
      ],
      "metadata": {
        "id": "YRQs00fJS6m7"
      }
    },
    {
      "cell_type": "code",
      "execution_count": 38,
      "metadata": {
        "colab": {
          "base_uri": "https://localhost:8080/"
        },
        "id": "f4tbJO7r-RDL",
        "outputId": "016d2747-8e47-453d-db21-c6ffdcff3b45"
      },
      "outputs": [
        {
          "output_type": "stream",
          "name": "stdout",
          "text": [
            "\n",
            "Evaluate result:\n",
            "15/15 [==============================] - 3s 17ms/step - loss: 1.4447\n"
          ]
        }
      ],
      "source": [
        "model_LSTM_mape.evaluate(X_test, Y_test)"
      ]
    },
    {
      "cell_type": "markdown",
      "source": [
        "\n",
        "<div dir=rtl>\n",
        "\n",
        "در سلول پایین نمودار مقدار حقیقی و مقدار پیشبینی شده را رسم میکند.\n",
        "\n",
        "</div>"
      ],
      "metadata": {
        "id": "aYxSnkoYTebm"
      }
    },
    {
      "cell_type": "code",
      "execution_count": 39,
      "metadata": {
        "colab": {
          "base_uri": "https://localhost:8080/",
          "height": 313
        },
        "id": "l1mZF1w1-RDM",
        "outputId": "a45503ed-67de-4cc7-80ae-a9cf19253458"
      },
      "outputs": [
        {
          "output_type": "stream",
          "name": "stdout",
          "text": [
            "15/15 [==============================] - 2s 16ms/step\n"
          ]
        },
        {
          "output_type": "display_data",
          "data": {
            "text/plain": [
              "<Figure size 432x288 with 1 Axes>"
            ],
            "image/png": "[encoded data removed]"
          },
          "metadata": {
            "needs_background": "light"
          }
        }
      ],
      "source": [
        "model_LSTM_mape.predict(X_test, Y_test)"
      ]
    },
    {
      "cell_type": "markdown",
      "metadata": {
        "id": "0WXsiThZ-RDM"
      },
      "source": [
        "## Build GRU model - mean_absolute_percentage_error"
      ]
    },
    {
      "cell_type": "markdown",
      "source": [
        "<div dir=rtl>\n",
        "\n",
        "در این قسمت شبکه ی GRU با مقدار dropout ،برابر با صفر\n",
        "با تابع بهینه ساز adam و تابع MAPE loss ساخته شده است.\n",
        "\n",
        "</div>"
      ],
      "metadata": {
        "id": "GbiMrI92R7Aj"
      }
    },
    {
      "cell_type": "code",
      "execution_count": 40,
      "metadata": {
        "colab": {
          "base_uri": "https://localhost:8080/"
        },
        "id": "qDE8B5Zf-RDM",
        "outputId": "3a033a8a-862f-4ef9-e18f-b3c75bfe1c05"
      },
      "outputs": [
        {
          "output_type": "stream",
          "name": "stdout",
          "text": [
            "Model: \"sequential_5\"\n",
            "_________________________________________________________________\n",
            " Layer (type)                Output Shape              Param #   \n",
            "=================================================================\n",
            " gru_8 (GRU)                 (None, 30, 50)            7950      \n",
            "                                                                 \n",
            " dropout_23 (Dropout)        (None, 30, 50)            0         \n",
            "                                                                 \n",
            " gru_9 (GRU)                 (None, 30, 50)            15300     \n",
            "                                                                 \n",
            " dropout_24 (Dropout)        (None, 30, 50)            0         \n",
            "                                                                 \n",
            " gru_10 (GRU)                (None, 30, 50)            15300     \n",
            "                                                                 \n",
            " dropout_25 (Dropout)        (None, 30, 50)            0         \n",
            "                                                                 \n",
            " gru_11 (GRU)                (None, 50)                15300     \n",
            "                                                                 \n",
            " dropout_26 (Dropout)        (None, 50)                0         \n",
            "                                                                 \n",
            " dense_5 (Dense)             (None, 1)                 51        \n",
            "                                                                 \n",
            "=================================================================\n",
            "Total params: 53,901\n",
            "Trainable params: 53,901\n",
            "Non-trainable params: 0\n",
            "_________________________________________________________________\n"
          ]
        }
      ],
      "source": [
        "model_GRU_mape = RNN('GRU', X_train.shape[1], 0, 'adam', 'mean_absolute_percentage_error')"
      ]
    },
    {
      "cell_type": "markdown",
      "source": [
        "<div dir=rtl>\n",
        "\n",
        "این شبکه با استفاده از داده های آموزش به اندازه ی 50 ایپاک آموزش دیده است.\n",
        "\n",
        "</div>"
      ],
      "metadata": {
        "id": "7MlmQjtMSknJ"
      }
    },
    {
      "cell_type": "code",
      "execution_count": 41,
      "metadata": {
        "colab": {
          "base_uri": "https://localhost:8080/",
          "height": 1000
        },
        "id": "N_EWVpsu-RDN",
        "outputId": "f26cc791-d79f-4d5b-b96a-4a606dcc83cd"
      },
      "outputs": [
        {
          "output_type": "stream",
          "name": "stdout",
          "text": [
            "Epoch 1/50\n",
            "62/62 [==============================] - 16s 82ms/step - loss: 13.0092\n",
            "Epoch 2/50\n",
            "62/62 [==============================] - 5s 84ms/step - loss: 2.7988\n",
            "Epoch 3/50\n",
            "62/62 [==============================] - 5s 74ms/step - loss: 3.0700\n",
            "Epoch 4/50\n",
            "62/62 [==============================] - 4s 59ms/step - loss: 3.2516\n",
            "Epoch 5/50\n",
            "62/62 [==============================] - 5s 85ms/step - loss: 3.3590\n",
            "Epoch 6/50\n",
            "62/62 [==============================] - 4s 63ms/step - loss: 3.2383\n",
            "Epoch 7/50\n",
            "62/62 [==============================] - 4s 58ms/step - loss: 2.5825\n",
            "Epoch 8/50\n",
            "62/62 [==============================] - 4s 60ms/step - loss: 2.8326\n",
            "Epoch 9/50\n",
            "62/62 [==============================] - 4s 69ms/step - loss: 4.4194\n",
            "Epoch 10/50\n",
            "62/62 [==============================] - 5s 74ms/step - loss: 3.5755\n",
            "Epoch 11/50\n",
            "62/62 [==============================] - 4s 59ms/step - loss: 1.8977\n",
            "Epoch 12/50\n",
            "62/62 [==============================] - 4s 60ms/step - loss: 2.1625\n",
            "Epoch 13/50\n",
            "62/62 [==============================] - 4s 58ms/step - loss: 3.7271\n",
            "Epoch 14/50\n",
            "62/62 [==============================] - 4s 59ms/step - loss: 1.7473\n",
            "Epoch 15/50\n",
            "62/62 [==============================] - 4s 58ms/step - loss: 1.6234\n",
            "Epoch 16/50\n",
            "62/62 [==============================] - 4s 59ms/step - loss: 2.0610\n",
            "Epoch 17/50\n",
            "62/62 [==============================] - 4s 59ms/step - loss: 2.2110\n",
            "Epoch 18/50\n",
            "62/62 [==============================] - 4s 59ms/step - loss: 1.9495\n",
            "Epoch 19/50\n",
            "62/62 [==============================] - 4s 59ms/step - loss: 1.7338\n",
            "Epoch 20/50\n",
            "62/62 [==============================] - 4s 59ms/step - loss: 1.6810\n",
            "Epoch 21/50\n",
            "62/62 [==============================] - 4s 65ms/step - loss: 2.1234\n",
            "Epoch 22/50\n",
            "62/62 [==============================] - 5s 75ms/step - loss: 2.4685\n",
            "Epoch 23/50\n",
            "62/62 [==============================] - 4s 58ms/step - loss: 2.1305\n",
            "Epoch 24/50\n",
            "62/62 [==============================] - 4s 60ms/step - loss: 2.7814\n",
            "Epoch 25/50\n",
            "62/62 [==============================] - 4s 59ms/step - loss: 1.6592\n",
            "Epoch 26/50\n",
            "62/62 [==============================] - 4s 69ms/step - loss: 2.0614\n",
            "Epoch 27/50\n",
            "62/62 [==============================] - 4s 70ms/step - loss: 1.8123\n",
            "Epoch 28/50\n",
            "62/62 [==============================] - 4s 58ms/step - loss: 2.0837\n",
            "Epoch 29/50\n",
            "62/62 [==============================] - 4s 58ms/step - loss: 1.6154\n",
            "Epoch 30/50\n",
            "62/62 [==============================] - 5s 77ms/step - loss: 2.1503\n",
            "Epoch 31/50\n",
            "62/62 [==============================] - 5s 86ms/step - loss: 2.1316\n",
            "Epoch 32/50\n",
            "62/62 [==============================] - 4s 65ms/step - loss: 1.9871\n",
            "Epoch 33/50\n",
            "62/62 [==============================] - 4s 58ms/step - loss: 1.6025\n",
            "Epoch 34/50\n",
            "62/62 [==============================] - 4s 59ms/step - loss: 1.6733\n",
            "Epoch 35/50\n",
            "62/62 [==============================] - 4s 62ms/step - loss: 1.5731\n",
            "Epoch 36/50\n",
            "62/62 [==============================] - 5s 82ms/step - loss: 2.0803\n",
            "Epoch 37/50\n",
            "62/62 [==============================] - 5s 78ms/step - loss: 1.8362\n",
            "Epoch 38/50\n",
            "62/62 [==============================] - 5s 79ms/step - loss: 1.3493\n",
            "Epoch 39/50\n",
            "62/62 [==============================] - 5s 81ms/step - loss: 1.7698\n",
            "Epoch 40/50\n",
            "62/62 [==============================] - 5s 82ms/step - loss: 1.7314\n",
            "Epoch 41/50\n",
            "62/62 [==============================] - 4s 59ms/step - loss: 1.9294\n",
            "Epoch 42/50\n",
            "62/62 [==============================] - 4s 66ms/step - loss: 1.6788\n",
            "Epoch 43/50\n",
            "62/62 [==============================] - 4s 64ms/step - loss: 1.4805\n",
            "Epoch 44/50\n",
            "62/62 [==============================] - 5s 81ms/step - loss: 1.7303\n",
            "Epoch 45/50\n",
            "62/62 [==============================] - 5s 78ms/step - loss: 1.8999\n",
            "Epoch 46/50\n",
            "62/62 [==============================] - 5s 86ms/step - loss: 1.6276\n",
            "Epoch 47/50\n",
            "62/62 [==============================] - 6s 97ms/step - loss: 1.9286\n",
            "Epoch 48/50\n",
            "62/62 [==============================] - 5s 76ms/step - loss: 1.5044\n",
            "Epoch 49/50\n",
            "62/62 [==============================] - 5s 80ms/step - loss: 1.4430\n",
            "Epoch 50/50\n",
            "62/62 [==============================] - 5s 79ms/step - loss: 2.1811\n"
          ]
        },
        {
          "output_type": "display_data",
          "data": {
            "text/plain": [
              "<Figure size 432x288 with 1 Axes>"
            ],
            "image/png": "[encoded data removed]"
          },
          "metadata": {
            "needs_background": "light"
          }
        }
      ],
      "source": [
        "model_GRU_mape.train(X_train, Y_train, 50)"
      ]
    },
    {
      "cell_type": "markdown",
      "source": [
        "<div dir=rtl>\n",
        "\n",
        "در این قسمت عملکرد مدل را بررسی کرده است و loss شبکه را به دست می آورد.\n",
        "\n",
        "</div>"
      ],
      "metadata": {
        "id": "hleQWqu9S_pD"
      }
    },
    {
      "cell_type": "code",
      "execution_count": 42,
      "metadata": {
        "colab": {
          "base_uri": "https://localhost:8080/"
        },
        "id": "EXL9UcMG-RDO",
        "outputId": "f42b1ef3-6be8-4e6a-e674-2dc5bd44c8c1"
      },
      "outputs": [
        {
          "output_type": "stream",
          "name": "stdout",
          "text": [
            "\n",
            "Evaluate result:\n",
            "15/15 [==============================] - 2s 14ms/step - loss: 1.2744\n"
          ]
        }
      ],
      "source": [
        "model_GRU_mape.evaluate(X_test, Y_test)"
      ]
    },
    {
      "cell_type": "markdown",
      "source": [
        "\n",
        "<div dir=rtl>\n",
        "\n",
        "در سلول پایین نمودار مقدار حقیقی و مقدار پیشبینی شده را رسم میکند.\n",
        "\n",
        "</div>"
      ],
      "metadata": {
        "id": "yT5FoheYThLu"
      }
    },
    {
      "cell_type": "code",
      "execution_count": 43,
      "metadata": {
        "colab": {
          "base_uri": "https://localhost:8080/",
          "height": 313
        },
        "id": "f24CN_Wd-RDO",
        "outputId": "6f091649-8eb5-4c36-e408-156456b1d8cf"
      },
      "outputs": [
        {
          "output_type": "stream",
          "name": "stdout",
          "text": [
            "15/15 [==============================] - 2s 15ms/step\n"
          ]
        },
        {
          "output_type": "display_data",
          "data": {
            "text/plain": [
              "<Figure size 432x288 with 1 Axes>"
            ],
            "image/png": "[encoded data removed]"
          },
          "metadata": {
            "needs_background": "light"
          }
        }
      ],
      "source": [
        "model_GRU_mape.predict(X_test, Y_test)"
      ]
    },
    {
      "cell_type": "markdown",
      "source": [
        "## ج\n",
        "\n",
        "<div dir=rtl>\n",
        "\n",
        "در این قسمت دو مدل مبتنی بر GRU و LSTM را با استفاده از بهینه ساز adam و MAPE loss آموزش داده ایم.\n",
        "\n",
        "اینبار مشابه قسمت های قبل نمیتوانیم از مقایسه ی مقدار loss برای مقایسه ی عملکرد دو مدل استفاده کنیم چرا که از توابع گوناگونی استفاده کرده ایم، اما از روی نمودار مقدار حقیقی و مقدار پیش بینی شده میتوانیم مدل ها را مقایسه کنیم.\n",
        "\n",
        "بصورت کلی در این قسمت نیز مدل مبتنی بر GRU عملکرد بهتری نسبت به مدل مبتنی بر LSTM داشته است.\n",
        "\n",
        "حال اگر بهترین مدل تا کنون را با مدل مبتنی بر GRU اسن قسمت مقایسه کنیم میبینیم عملکرد مدلی که با تابع MSE loss ساخته شده است بهتر است چرا که بین سمپلهای متوالی نوسانات کمتری دارد.\n",
        "\n",
        "* بهترین مدل تا این مرحله مدل GRU با بهینه ساز adam و MSE Loss است.\n",
        "\n",
        "\n",
        "</div>"
      ],
      "metadata": {
        "id": "wf0je40kXvu8"
      }
    },
    {
      "cell_type": "markdown",
      "metadata": {
        "id": "oXCOeHyW-RDO"
      },
      "source": [
        "## Build LSTM model - Dropout"
      ]
    },
    {
      "cell_type": "markdown",
      "source": [
        "<div dir=rtl>\n",
        "\n",
        "در این قسمت شبکه ی LSTM با مقدار dropout ،برابر با 0.2\n",
        "با تابع بهینه ساز adam و تابع MSE loss ساخته شده است.\n",
        "\n",
        "</div>"
      ],
      "metadata": {
        "id": "10SU9Ca0R_wc"
      }
    },
    {
      "cell_type": "code",
      "execution_count": 44,
      "metadata": {
        "colab": {
          "base_uri": "https://localhost:8080/"
        },
        "id": "wvJTbZWw-RDP",
        "outputId": "04a3c475-e02e-40ac-eb3b-f7b419dcb94f"
      },
      "outputs": [
        {
          "output_type": "stream",
          "name": "stdout",
          "text": [
            "Model: \"sequential_6\"\n",
            "_________________________________________________________________\n",
            " Layer (type)                Output Shape              Param #   \n",
            "=================================================================\n",
            " lstm_12 (LSTM)              (None, 30, 50)            10400     \n",
            "                                                                 \n",
            " dropout_27 (Dropout)        (None, 30, 50)            0         \n",
            "                                                                 \n",
            " lstm_13 (LSTM)              (None, 30, 50)            20200     \n",
            "                                                                 \n",
            " dropout_28 (Dropout)        (None, 30, 50)            0         \n",
            "                                                                 \n",
            " lstm_14 (LSTM)              (None, 30, 50)            20200     \n",
            "                                                                 \n",
            " dropout_29 (Dropout)        (None, 30, 50)            0         \n",
            "                                                                 \n",
            " lstm_15 (LSTM)              (None, 50)                20200     \n",
            "                                                                 \n",
            " dropout_30 (Dropout)        (None, 50)                0         \n",
            "                                                                 \n",
            " dense_6 (Dense)             (None, 1)                 51        \n",
            "                                                                 \n",
            " dropout_31 (Dropout)        (None, 1)                 0         \n",
            "                                                                 \n",
            "=================================================================\n",
            "Total params: 71,051\n",
            "Trainable params: 71,051\n",
            "Non-trainable params: 0\n",
            "_________________________________________________________________\n"
          ]
        }
      ],
      "source": [
        "model_LSTM_dropout = RNN('LSTM', X_train.shape[1], 0.2, 'adam', 'mean_absolute_error')"
      ]
    },
    {
      "cell_type": "markdown",
      "source": [
        "<div dir=rtl>\n",
        "\n",
        "این شبکه با استفاده از داده های آموزش به اندازه ی 50 ایپاک آموزش دیده است.\n",
        "\n",
        "</div>"
      ],
      "metadata": {
        "id": "vvFEj0b4SnhT"
      }
    },
    {
      "cell_type": "code",
      "execution_count": 45,
      "metadata": {
        "colab": {
          "base_uri": "https://localhost:8080/",
          "height": 1000
        },
        "id": "jTZombVm-RDP",
        "outputId": "74eb5355-6ee4-41e4-aed9-1983625e654b"
      },
      "outputs": [
        {
          "output_type": "stream",
          "name": "stdout",
          "text": [
            "Epoch 1/50\n",
            "62/62 [==============================] - 13s 69ms/step - loss: 0.0457\n",
            "Epoch 2/50\n",
            "62/62 [==============================] - 5s 80ms/step - loss: 0.0372\n",
            "Epoch 3/50\n",
            "62/62 [==============================] - 5s 81ms/step - loss: 0.0348\n",
            "Epoch 4/50\n",
            "62/62 [==============================] - 5s 74ms/step - loss: 0.0351\n",
            "Epoch 5/50\n",
            "62/62 [==============================] - 5s 75ms/step - loss: 0.0342\n",
            "Epoch 6/50\n",
            "62/62 [==============================] - 5s 80ms/step - loss: 0.0330\n",
            "Epoch 7/50\n",
            "62/62 [==============================] - 5s 76ms/step - loss: 0.0340\n",
            "Epoch 8/50\n",
            "62/62 [==============================] - 5s 80ms/step - loss: 0.0327\n",
            "Epoch 9/50\n",
            "62/62 [==============================] - 5s 85ms/step - loss: 0.0303\n",
            "Epoch 10/50\n",
            "62/62 [==============================] - 5s 77ms/step - loss: 0.0312\n",
            "Epoch 11/50\n",
            "62/62 [==============================] - 4s 67ms/step - loss: 0.0325\n",
            "Epoch 12/50\n",
            "62/62 [==============================] - 4s 61ms/step - loss: 0.0316\n",
            "Epoch 13/50\n",
            "62/62 [==============================] - 4s 61ms/step - loss: 0.0319\n",
            "Epoch 14/50\n",
            "62/62 [==============================] - 4s 72ms/step - loss: 0.0315\n",
            "Epoch 15/50\n",
            "62/62 [==============================] - 5s 79ms/step - loss: 0.0317\n",
            "Epoch 16/50\n",
            "62/62 [==============================] - 5s 79ms/step - loss: 0.0309\n",
            "Epoch 17/50\n",
            "62/62 [==============================] - 5s 79ms/step - loss: 0.0301\n",
            "Epoch 18/50\n",
            "62/62 [==============================] - 4s 72ms/step - loss: 0.0320\n",
            "Epoch 19/50\n",
            "62/62 [==============================] - 5s 75ms/step - loss: 0.0311\n",
            "Epoch 20/50\n",
            "62/62 [==============================] - 5s 78ms/step - loss: 0.0310\n",
            "Epoch 21/50\n",
            "62/62 [==============================] - 5s 83ms/step - loss: 0.0319\n",
            "Epoch 22/50\n",
            "62/62 [==============================] - 5s 79ms/step - loss: 0.0329\n",
            "Epoch 23/50\n",
            "62/62 [==============================] - 4s 73ms/step - loss: 0.0298\n",
            "Epoch 24/50\n",
            "62/62 [==============================] - 5s 77ms/step - loss: 0.0302\n",
            "Epoch 25/50\n",
            "62/62 [==============================] - 6s 93ms/step - loss: 0.0316\n",
            "Epoch 26/50\n",
            "62/62 [==============================] - 5s 82ms/step - loss: 0.0308\n",
            "Epoch 27/50\n",
            "62/62 [==============================] - 6s 90ms/step - loss: 0.0314\n",
            "Epoch 28/50\n",
            "62/62 [==============================] - 5s 78ms/step - loss: 0.0301\n",
            "Epoch 29/50\n",
            "62/62 [==============================] - 5s 73ms/step - loss: 0.0310\n",
            "Epoch 30/50\n",
            "62/62 [==============================] - 5s 83ms/step - loss: 0.0298\n",
            "Epoch 31/50\n",
            "62/62 [==============================] - 4s 70ms/step - loss: 0.0310\n",
            "Epoch 32/50\n",
            "62/62 [==============================] - 5s 77ms/step - loss: 0.0281\n",
            "Epoch 33/50\n",
            "62/62 [==============================] - 5s 86ms/step - loss: 0.0309\n",
            "Epoch 34/50\n",
            "62/62 [==============================] - 5s 78ms/step - loss: 0.0311\n",
            "Epoch 35/50\n",
            "62/62 [==============================] - 4s 69ms/step - loss: 0.0312\n",
            "Epoch 36/50\n",
            "62/62 [==============================] - 4s 60ms/step - loss: 0.0290\n",
            "Epoch 37/50\n",
            "62/62 [==============================] - 4s 72ms/step - loss: 0.0296\n",
            "Epoch 38/50\n",
            "62/62 [==============================] - 5s 73ms/step - loss: 0.0306\n",
            "Epoch 39/50\n",
            "62/62 [==============================] - 5s 80ms/step - loss: 0.0295\n",
            "Epoch 40/50\n",
            "62/62 [==============================] - 4s 71ms/step - loss: 0.0301\n",
            "Epoch 41/50\n",
            "62/62 [==============================] - 4s 62ms/step - loss: 0.0319\n",
            "Epoch 42/50\n",
            "62/62 [==============================] - 4s 63ms/step - loss: 0.0329\n",
            "Epoch 43/50\n",
            "62/62 [==============================] - 4s 66ms/step - loss: 0.0310\n",
            "Epoch 44/50\n",
            "62/62 [==============================] - 6s 89ms/step - loss: 0.0310\n",
            "Epoch 45/50\n",
            "62/62 [==============================] - 4s 62ms/step - loss: 0.0298\n",
            "Epoch 46/50\n",
            "62/62 [==============================] - 4s 62ms/step - loss: 0.0308\n",
            "Epoch 47/50\n",
            "62/62 [==============================] - 4s 60ms/step - loss: 0.0297\n",
            "Epoch 48/50\n",
            "62/62 [==============================] - 4s 61ms/step - loss: 0.0294\n",
            "Epoch 49/50\n",
            "62/62 [==============================] - 4s 61ms/step - loss: 0.0306\n",
            "Epoch 50/50\n",
            "62/62 [==============================] - 5s 75ms/step - loss: 0.0304\n"
          ]
        },
        {
          "output_type": "display_data",
          "data": {
            "text/plain": [
              "<Figure size 432x288 with 1 Axes>"
            ],
            "image/png": "[encoded data removed]"
          },
          "metadata": {
            "needs_background": "light"
          }
        }
      ],
      "source": [
        "model_LSTM_dropout.train(X_train, Y_train, 50)"
      ]
    },
    {
      "cell_type": "markdown",
      "source": [
        "<div dir=rtl>\n",
        "\n",
        "در این قسمت عملکرد مدل را بررسی کرده است و loss شبکه را به دست می آورد.\n",
        "\n",
        "</div>"
      ],
      "metadata": {
        "id": "5fziR-ASTDgH"
      }
    },
    {
      "cell_type": "code",
      "execution_count": 46,
      "metadata": {
        "colab": {
          "base_uri": "https://localhost:8080/"
        },
        "id": "q_SC8QVG-RDP",
        "outputId": "9741cc58-d002-4ff4-8da8-c5b312ab5124"
      },
      "outputs": [
        {
          "output_type": "stream",
          "name": "stdout",
          "text": [
            "\n",
            "Evaluate result:\n",
            "15/15 [==============================] - 3s 27ms/step - loss: 0.0582\n"
          ]
        }
      ],
      "source": [
        "model_LSTM_dropout.evaluate(X_test, Y_test)"
      ]
    },
    {
      "cell_type": "markdown",
      "source": [
        "\n",
        "<div dir=rtl>\n",
        "\n",
        "در سلول پایین نمودار مقدار حقیقی و مقدار پیشبینی شده را رسم میکند.\n",
        "\n",
        "</div>"
      ],
      "metadata": {
        "id": "sn9rU0Y_TjVD"
      }
    },
    {
      "cell_type": "code",
      "execution_count": 47,
      "metadata": {
        "colab": {
          "base_uri": "https://localhost:8080/",
          "height": 313
        },
        "id": "BMEF6iMm-RDP",
        "outputId": "55edb397-a784-463b-bec5-700a0e2f792c"
      },
      "outputs": [
        {
          "output_type": "stream",
          "name": "stdout",
          "text": [
            "15/15 [==============================] - 2s 16ms/step\n"
          ]
        },
        {
          "output_type": "display_data",
          "data": {
            "text/plain": [
              "<Figure size 432x288 with 1 Axes>"
            ],
            "image/png": "[encoded data removed]"
          },
          "metadata": {
            "needs_background": "light"
          }
        }
      ],
      "source": [
        "model_LSTM_dropout.predict(X_test, Y_test)"
      ]
    },
    {
      "cell_type": "markdown",
      "metadata": {
        "id": "bfeBg6mU-RDQ"
      },
      "source": [
        "## Build GRU model - Dropout"
      ]
    },
    {
      "cell_type": "markdown",
      "source": [
        "<div dir=rtl>\n",
        "\n",
        "در این قسمت شبکه ی GRU با مقدار dropout ،برابر با 0.2\n",
        "با تابع بهینه ساز adam و تابع MSE loss ساخته شده است.\n",
        "\n",
        "</div>"
      ],
      "metadata": {
        "id": "e_WnSeNuSDUf"
      }
    },
    {
      "cell_type": "code",
      "execution_count": 48,
      "metadata": {
        "colab": {
          "base_uri": "https://localhost:8080/"
        },
        "id": "ZMAlAkFG-RDQ",
        "outputId": "c9e4f4c7-4c99-43d2-aed2-fb33f3b2a522"
      },
      "outputs": [
        {
          "output_type": "stream",
          "name": "stdout",
          "text": [
            "Model: \"sequential_7\"\n",
            "_________________________________________________________________\n",
            " Layer (type)                Output Shape              Param #   \n",
            "=================================================================\n",
            " gru_12 (GRU)                (None, 30, 50)            7950      \n",
            "                                                                 \n",
            " dropout_32 (Dropout)        (None, 30, 50)            0         \n",
            "                                                                 \n",
            " gru_13 (GRU)                (None, 30, 50)            15300     \n",
            "                                                                 \n",
            " dropout_33 (Dropout)        (None, 30, 50)            0         \n",
            "                                                                 \n",
            " gru_14 (GRU)                (None, 30, 50)            15300     \n",
            "                                                                 \n",
            " dropout_34 (Dropout)        (None, 30, 50)            0         \n",
            "                                                                 \n",
            " gru_15 (GRU)                (None, 50)                15300     \n",
            "                                                                 \n",
            " dropout_35 (Dropout)        (None, 50)                0         \n",
            "                                                                 \n",
            " dense_7 (Dense)             (None, 1)                 51        \n",
            "                                                                 \n",
            "=================================================================\n",
            "Total params: 53,901\n",
            "Trainable params: 53,901\n",
            "Non-trainable params: 0\n",
            "_________________________________________________________________\n"
          ]
        }
      ],
      "source": [
        "model_GRU_dropout = RNN('GRU', X_train.shape[1], 0.2, 'adam', 'mean_absolute_error')"
      ]
    },
    {
      "cell_type": "markdown",
      "source": [
        "<div dir=rtl>\n",
        "\n",
        "این شبکه با استفاده از داده های آموزش به اندازه ی 50 ایپاک آموزش دیده است.\n",
        "\n",
        "</div>"
      ],
      "metadata": {
        "id": "oN8YYmauSphj"
      }
    },
    {
      "cell_type": "code",
      "execution_count": 49,
      "metadata": {
        "colab": {
          "base_uri": "https://localhost:8080/",
          "height": 1000
        },
        "id": "Mh_1L_I3-RDR",
        "outputId": "5a0a6e9b-2ab8-4e81-fd88-65f031ad7b6c"
      },
      "outputs": [
        {
          "output_type": "stream",
          "name": "stdout",
          "text": [
            "Epoch 1/50\n",
            "62/62 [==============================] - 13s 60ms/step - loss: 0.0253\n",
            "Epoch 2/50\n",
            "62/62 [==============================] - 4s 60ms/step - loss: 0.0105\n",
            "Epoch 3/50\n",
            "62/62 [==============================] - 4s 61ms/step - loss: 0.0102\n",
            "Epoch 4/50\n",
            "62/62 [==============================] - 4s 63ms/step - loss: 0.0089\n",
            "Epoch 5/50\n",
            "62/62 [==============================] - 4s 60ms/step - loss: 0.0080\n",
            "Epoch 6/50\n",
            "62/62 [==============================] - 4s 60ms/step - loss: 0.0088\n",
            "Epoch 7/50\n",
            "62/62 [==============================] - 5s 80ms/step - loss: 0.0083\n",
            "Epoch 8/50\n",
            "62/62 [==============================] - 4s 60ms/step - loss: 0.0076\n",
            "Epoch 9/50\n",
            "62/62 [==============================] - 4s 60ms/step - loss: 0.0082\n",
            "Epoch 10/50\n",
            "62/62 [==============================] - 4s 61ms/step - loss: 0.0070\n",
            "Epoch 11/50\n",
            "62/62 [==============================] - 4s 61ms/step - loss: 0.0074\n",
            "Epoch 12/50\n",
            "62/62 [==============================] - 4s 61ms/step - loss: 0.0074\n",
            "Epoch 13/50\n",
            "62/62 [==============================] - 4s 60ms/step - loss: 0.0072\n",
            "Epoch 14/50\n",
            "62/62 [==============================] - 4s 62ms/step - loss: 0.0063\n",
            "Epoch 15/50\n",
            "62/62 [==============================] - 4s 61ms/step - loss: 0.0063\n",
            "Epoch 16/50\n",
            "62/62 [==============================] - 4s 60ms/step - loss: 0.0068\n",
            "Epoch 17/50\n",
            "62/62 [==============================] - 4s 61ms/step - loss: 0.0063\n",
            "Epoch 18/50\n",
            "62/62 [==============================] - 4s 60ms/step - loss: 0.0067\n",
            "Epoch 19/50\n",
            "62/62 [==============================] - 4s 60ms/step - loss: 0.0062\n",
            "Epoch 20/50\n",
            "62/62 [==============================] - 4s 59ms/step - loss: 0.0067\n",
            "Epoch 21/50\n",
            "62/62 [==============================] - 4s 60ms/step - loss: 0.0057\n",
            "Epoch 22/50\n",
            "62/62 [==============================] - 4s 63ms/step - loss: 0.0058\n",
            "Epoch 23/50\n",
            "62/62 [==============================] - 4s 60ms/step - loss: 0.0060\n",
            "Epoch 24/50\n",
            "62/62 [==============================] - 4s 59ms/step - loss: 0.0054\n",
            "Epoch 25/50\n",
            "62/62 [==============================] - 4s 60ms/step - loss: 0.0054\n",
            "Epoch 26/50\n",
            "62/62 [==============================] - 4s 60ms/step - loss: 0.0054\n",
            "Epoch 27/50\n",
            "62/62 [==============================] - 4s 59ms/step - loss: 0.0053\n",
            "Epoch 28/50\n",
            "62/62 [==============================] - 4s 61ms/step - loss: 0.0054\n",
            "Epoch 29/50\n",
            "62/62 [==============================] - 4s 59ms/step - loss: 0.0054\n",
            "Epoch 30/50\n",
            "62/62 [==============================] - 4s 61ms/step - loss: 0.0053\n",
            "Epoch 31/50\n",
            "62/62 [==============================] - 4s 61ms/step - loss: 0.0050\n",
            "Epoch 32/50\n",
            "62/62 [==============================] - 4s 59ms/step - loss: 0.0055\n",
            "Epoch 33/50\n",
            "62/62 [==============================] - 4s 60ms/step - loss: 0.0050\n",
            "Epoch 34/50\n",
            "62/62 [==============================] - 4s 61ms/step - loss: 0.0051\n",
            "Epoch 35/50\n",
            "62/62 [==============================] - 4s 60ms/step - loss: 0.0060\n",
            "Epoch 36/50\n",
            "62/62 [==============================] - 4s 60ms/step - loss: 0.0049\n",
            "Epoch 37/50\n",
            "62/62 [==============================] - 4s 60ms/step - loss: 0.0051\n",
            "Epoch 38/50\n",
            "62/62 [==============================] - 4s 59ms/step - loss: 0.0054\n",
            "Epoch 39/50\n",
            "62/62 [==============================] - 4s 61ms/step - loss: 0.0048\n",
            "Epoch 40/50\n",
            "62/62 [==============================] - 4s 62ms/step - loss: 0.0050\n",
            "Epoch 41/50\n",
            "62/62 [==============================] - 4s 59ms/step - loss: 0.0048\n",
            "Epoch 42/50\n",
            "62/62 [==============================] - 4s 60ms/step - loss: 0.0048\n",
            "Epoch 43/50\n",
            "62/62 [==============================] - 4s 59ms/step - loss: 0.0049\n",
            "Epoch 44/50\n",
            "62/62 [==============================] - 4s 60ms/step - loss: 0.0050\n",
            "Epoch 45/50\n",
            "62/62 [==============================] - 4s 60ms/step - loss: 0.0052\n",
            "Epoch 46/50\n",
            "62/62 [==============================] - 4s 60ms/step - loss: 0.0053\n",
            "Epoch 47/50\n",
            "62/62 [==============================] - 4s 69ms/step - loss: 0.0052\n",
            "Epoch 48/50\n",
            "62/62 [==============================] - 4s 70ms/step - loss: 0.0050\n",
            "Epoch 49/50\n",
            "62/62 [==============================] - 4s 60ms/step - loss: 0.0046\n",
            "Epoch 50/50\n",
            "62/62 [==============================] - 4s 60ms/step - loss: 0.0051\n"
          ]
        },
        {
          "output_type": "display_data",
          "data": {
            "text/plain": [
              "<Figure size 432x288 with 1 Axes>"
            ],
            "image/png": "[encoded data removed]"
          },
          "metadata": {
            "needs_background": "light"
          }
        }
      ],
      "source": [
        "model_GRU_dropout.train(X_train, Y_train, 50)"
      ]
    },
    {
      "cell_type": "markdown",
      "source": [
        "<div dir=rtl>\n",
        "\n",
        "در این قسمت عملکرد مدل را بررسی کرده است و loss شبکه را به دست می آورد.\n",
        "\n",
        "</div>"
      ],
      "metadata": {
        "id": "y3TldQorTG5Y"
      }
    },
    {
      "cell_type": "code",
      "execution_count": 50,
      "metadata": {
        "colab": {
          "base_uri": "https://localhost:8080/"
        },
        "id": "UziKFPDD-RDR",
        "outputId": "30edb49a-449f-4ca1-90df-2bea3dc0c44f"
      },
      "outputs": [
        {
          "output_type": "stream",
          "name": "stdout",
          "text": [
            "\n",
            "Evaluate result:\n",
            "15/15 [==============================] - 2s 16ms/step - loss: 0.0098\n"
          ]
        }
      ],
      "source": [
        "model_GRU_dropout.evaluate(X_test, Y_test)"
      ]
    },
    {
      "cell_type": "markdown",
      "source": [
        "\n",
        "<div dir=rtl>\n",
        "\n",
        "در سلول پایین نمودار مقدار حقیقی و مقدار پیشبینی شده را رسم میکند.\n",
        "\n",
        "</div>"
      ],
      "metadata": {
        "id": "2ihoLRB8Tl3g"
      }
    },
    {
      "cell_type": "code",
      "execution_count": 51,
      "metadata": {
        "colab": {
          "base_uri": "https://localhost:8080/",
          "height": 313
        },
        "id": "NVc9XqNE-RDS",
        "outputId": "9b5f8513-45b0-4c35-ba3d-449c4a545dba"
      },
      "outputs": [
        {
          "output_type": "stream",
          "name": "stdout",
          "text": [
            "15/15 [==============================] - 2s 17ms/step\n"
          ]
        },
        {
          "output_type": "display_data",
          "data": {
            "text/plain": [
              "<Figure size 432x288 with 1 Axes>"
            ],
            "image/png": "[encoded data removed]"
          },
          "metadata": {
            "needs_background": "light"
          }
        }
      ],
      "source": [
        "model_GRU_dropout.predict(X_test, Y_test)"
      ]
    },
    {
      "cell_type": "markdown",
      "source": [
        "## د\n",
        "\n",
        "<div dir=rtl>\n",
        "\n",
        "در این قسمت دو مدل مبتنی بر GRU و LSTM که از تابع فعالساز adam و MSE loss استفاده میکردند را با dropout 0.2 آموزش داده ایم.\n",
        "\n",
        "مشاهده میشود عملکرد هر دو مدل بعد از استفاده از dropout بسیار افت میکند.\n",
        "\n",
        "این اتفاق خلاف انتظار ما نیست، چرا که مدلهای بدون dropout دچار overfiting نبودند و علاوه بر زمان آموزش در زمان تست نیز عملکرد بسیار خوبی بر روی داده های مشاهده نشده اند و صرفا استفاده کردن dropout باعث شده عملکرد خوب مدل از بین ببرد.\n",
        "\n",
        ".\n",
        "\n",
        "* نهایتا مدل مبتنی بر شبکه GRU که با استفاده از تابع adam بهینه شده و از MSE loss استفاده کرده است بعنوان بهترین مدل انتخاب میشود.\n",
        "\n",
        "\n",
        "</div>"
      ],
      "metadata": {
        "id": "TCMdJjHoZOIv"
      }
    },
    {
      "cell_type": "markdown",
      "metadata": {
        "id": "gYMln2BY-RDV"
      },
      "source": [
        "## Best model evaluation"
      ]
    },
    {
      "cell_type": "code",
      "execution_count": 60,
      "metadata": {
        "id": "Jd5c3Mwm-RDW"
      },
      "outputs": [],
      "source": [
        "start_date = \"2020-01-01\"\n",
        "end_date = \"2021-01-01\"\n",
        "company = 'GOOG'\n",
        "def back_test(model, seq_len, company, start_date, end_date):\n",
        "    stock_data, df = get_stock_data(company, start_date, end_date)\n",
        "    process = DataProcessing(stock_data, 0)\n",
        "    process.gen_test(seq_len)\n",
        "    X_test = process.X_test\n",
        "    Y_test = process.Y_test\n",
        "    model.predict(X_test, Y_test)"
      ]
    },
    {
      "cell_type": "code",
      "execution_count": 61,
      "metadata": {
        "colab": {
          "base_uri": "https://localhost:8080/",
          "height": 331
        },
        "id": "u8-taA_P-RDW",
        "outputId": "5808558f-ef0c-4d18-c180-c86656eb81b4"
      },
      "outputs": [
        {
          "output_type": "stream",
          "name": "stdout",
          "text": [
            "[*********************100%***********************]  1 of 1 completed\n",
            "7/7 [==============================] - 0s 15ms/step\n"
          ]
        },
        {
          "output_type": "display_data",
          "data": {
            "text/plain": [
              "<Figure size 432x288 with 1 Axes>"
            ],
            "image/png": "[encoded data removed]"
          },
          "metadata": {
            "needs_background": "light"
          }
        }
      ],
      "source": [
        "back_test(model_GRU, 30, company, start_date, end_date)"
      ]
    },
    {
      "cell_type": "markdown",
      "source": [
        "<div dir=rtl>\n",
        "\n",
        "در این قسمت قصد داریم عملکرد مدلمان را روی داده های دیده نشده و اخیر شرکت گوگل بررسی کنیم. طول سری زمانی برابر با 30 روز است و بازه زمانی از اولین روز سال 2020 تا اولین روز سال 2022 انتخاب شده است.\n",
        "\n",
        "داده های این بازه زمانی را با استفاده از کتابخانه yfinance دریافت میکنیم،\n",
        "\n",
        "همه ی آنها را بعنوان داده ی تست جداسازی میکنیم،\n",
        "\n",
        "و از آنها سری زمانی به طول 30 روز میسازیم.\n",
        "\n",
        "این داده ها را به بهترین مدلمان میدهیم و برای آن نمودار مقایسه مقدار حقیقی و مقدار پیشبینی شده را رسم میکنیم.\n",
        "\n",
        "با بررسی نمودار درمیابیم مدل با موفقیت و با مقدار بسیار کمی اختلاف توانسته ارزش سهام این شرکت را تخمین بزند.\n",
        "\n",
        "</div>"
      ],
      "metadata": {
        "id": "23v63eOvbrl2"
      }
    }
  ],
  "metadata": {
    "colab": {
      "provenance": []
    },
    "kernelspec": {
      "display_name": "Python 3 (ipykernel)",
      "language": "python",
      "name": "python3"
    },
    "language_info": {
      "codemirror_mode": {
        "name": "ipython",
        "version": 3
      },
      "file_extension": ".py",
      "mimetype": "text/x-python",
      "name": "python",
      "nbconvert_exporter": "python",
      "pygments_lexer": "ipython3",
      "version": "3.7.13"
    }
  },
  "nbformat": 4,
  "nbformat_minor": 0
}